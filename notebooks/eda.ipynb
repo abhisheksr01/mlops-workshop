{
 "cells": [
  {
   "cell_type": "markdown",
   "metadata": {},
   "source": [
    "# Exploratory data anaylsis"
   ]
  },
  {
   "cell_type": "markdown",
   "metadata": {},
   "source": [
    "## Look at data and clean up one year"
   ]
  },
  {
   "cell_type": "code",
   "execution_count": 8,
   "metadata": {},
   "outputs": [
    {
     "data": {
      "text/html": [
       "<div>\n",
       "<style scoped>\n",
       "    .dataframe tbody tr th:only-of-type {\n",
       "        vertical-align: middle;\n",
       "    }\n",
       "\n",
       "    .dataframe tbody tr th {\n",
       "        vertical-align: top;\n",
       "    }\n",
       "\n",
       "    .dataframe thead th {\n",
       "        text-align: right;\n",
       "    }\n",
       "</style>\n",
       "<table border=\"1\" class=\"dataframe\">\n",
       "  <thead>\n",
       "    <tr style=\"text-align: right;\">\n",
       "      <th></th>\n",
       "      <th>State</th>\n",
       "      <th>Biodiesel</th>\n",
       "      <th>CNG</th>\n",
       "      <th>E85</th>\n",
       "      <th>Electrica</th>\n",
       "      <th>Hydrogenb</th>\n",
       "      <th>LNG</th>\n",
       "      <th>Propanec</th>\n",
       "      <th>Totald</th>\n",
       "    </tr>\n",
       "  </thead>\n",
       "  <tbody>\n",
       "    <tr>\n",
       "      <th>0</th>\n",
       "      <td>NaN</td>\n",
       "      <td>NaN</td>\n",
       "      <td>NaN</td>\n",
       "      <td>NaN</td>\n",
       "      <td>(stations / charging outlets</td>\n",
       "      <td>(retail / non-retail / total)</td>\n",
       "      <td>NaN</td>\n",
       "      <td>(primary / secondary / total)</td>\n",
       "      <td>NaN</td>\n",
       "    </tr>\n",
       "    <tr>\n",
       "      <th>1</th>\n",
       "      <td>NaN</td>\n",
       "      <td>NaN</td>\n",
       "      <td>NaN</td>\n",
       "      <td>NaN</td>\n",
       "      <td>Level 1 / Level 2 / DC Fast)</td>\n",
       "      <td>NaN</td>\n",
       "      <td>NaN</td>\n",
       "      <td>NaN</td>\n",
       "      <td>NaN</td>\n",
       "    </tr>\n",
       "    <tr>\n",
       "      <th>2</th>\n",
       "      <td>Alabama</td>\n",
       "      <td>10.0</td>\n",
       "      <td>30.0</td>\n",
       "      <td>29.0</td>\n",
       "      <td>223 / 596</td>\n",
       "      <td>0 / 0 / 0</td>\n",
       "      <td>2.0</td>\n",
       "      <td>24 / 45 / 69</td>\n",
       "      <td>736.0</td>\n",
       "    </tr>\n",
       "    <tr>\n",
       "      <th>3</th>\n",
       "      <td>NaN</td>\n",
       "      <td>NaN</td>\n",
       "      <td>NaN</td>\n",
       "      <td>NaN</td>\n",
       "      <td>56 / 449 / 91</td>\n",
       "      <td>NaN</td>\n",
       "      <td>NaN</td>\n",
       "      <td>NaN</td>\n",
       "      <td>NaN</td>\n",
       "    </tr>\n",
       "    <tr>\n",
       "      <th>4</th>\n",
       "      <td>Alaska</td>\n",
       "      <td>0.0</td>\n",
       "      <td>1.0</td>\n",
       "      <td>0.0</td>\n",
       "      <td>25 / 45</td>\n",
       "      <td>0 / 0 / 0</td>\n",
       "      <td>0.0</td>\n",
       "      <td>1 / 2 / 3</td>\n",
       "      <td>49.0</td>\n",
       "    </tr>\n",
       "    <tr>\n",
       "      <th>...</th>\n",
       "      <td>...</td>\n",
       "      <td>...</td>\n",
       "      <td>...</td>\n",
       "      <td>...</td>\n",
       "      <td>...</td>\n",
       "      <td>...</td>\n",
       "      <td>...</td>\n",
       "      <td>...</td>\n",
       "      <td>...</td>\n",
       "    </tr>\n",
       "    <tr>\n",
       "      <th>107</th>\n",
       "      <td>NaN</td>\n",
       "      <td>NaN</td>\n",
       "      <td>NaN</td>\n",
       "      <td>NaN</td>\n",
       "      <td>NaN</td>\n",
       "      <td>NaN</td>\n",
       "      <td>NaN</td>\n",
       "      <td>NaN</td>\n",
       "      <td>NaN</td>\n",
       "    </tr>\n",
       "    <tr>\n",
       "      <th>108</th>\n",
       "      <td>(a) Includes legacy chargers but does not incl...</td>\n",
       "      <td>NaN</td>\n",
       "      <td>NaN</td>\n",
       "      <td>NaN</td>\n",
       "      <td>NaN</td>\n",
       "      <td>NaN</td>\n",
       "      <td>NaN</td>\n",
       "      <td>NaN</td>\n",
       "      <td>NaN</td>\n",
       "    </tr>\n",
       "    <tr>\n",
       "      <th>109</th>\n",
       "      <td>(b) Primary propane stations offer vehicle-spe...</td>\n",
       "      <td>NaN</td>\n",
       "      <td>NaN</td>\n",
       "      <td>NaN</td>\n",
       "      <td>NaN</td>\n",
       "      <td>NaN</td>\n",
       "      <td>NaN</td>\n",
       "      <td>NaN</td>\n",
       "      <td>NaN</td>\n",
       "    </tr>\n",
       "    <tr>\n",
       "      <th>110</th>\n",
       "      <td>(c) Retail hydrogen stations accept payment at...</td>\n",
       "      <td>NaN</td>\n",
       "      <td>NaN</td>\n",
       "      <td>NaN</td>\n",
       "      <td>NaN</td>\n",
       "      <td>NaN</td>\n",
       "      <td>NaN</td>\n",
       "      <td>NaN</td>\n",
       "      <td>NaN</td>\n",
       "    </tr>\n",
       "    <tr>\n",
       "      <th>111</th>\n",
       "      <td>(d) Totals are the number of stations for all ...</td>\n",
       "      <td>NaN</td>\n",
       "      <td>NaN</td>\n",
       "      <td>NaN</td>\n",
       "      <td>NaN</td>\n",
       "      <td>NaN</td>\n",
       "      <td>NaN</td>\n",
       "      <td>NaN</td>\n",
       "      <td>NaN</td>\n",
       "    </tr>\n",
       "  </tbody>\n",
       "</table>\n",
       "<p>112 rows × 9 columns</p>\n",
       "</div>"
      ],
      "text/plain": [
       "                                                 State  Biodiesel   CNG   E85  \\\n",
       "0                                                  NaN        NaN   NaN   NaN   \n",
       "1                                                  NaN        NaN   NaN   NaN   \n",
       "2                                              Alabama       10.0  30.0  29.0   \n",
       "3                                                  NaN        NaN   NaN   NaN   \n",
       "4                                               Alaska        0.0   1.0   0.0   \n",
       "..                                                 ...        ...   ...   ...   \n",
       "107                                                NaN        NaN   NaN   NaN   \n",
       "108  (a) Includes legacy chargers but does not incl...        NaN   NaN   NaN   \n",
       "109  (b) Primary propane stations offer vehicle-spe...        NaN   NaN   NaN   \n",
       "110  (c) Retail hydrogen stations accept payment at...        NaN   NaN   NaN   \n",
       "111  (d) Totals are the number of stations for all ...        NaN   NaN   NaN   \n",
       "\n",
       "                        Electrica                      Hydrogenb  LNG  \\\n",
       "0    (stations / charging outlets  (retail / non-retail / total)  NaN   \n",
       "1    Level 1 / Level 2 / DC Fast)                            NaN  NaN   \n",
       "2                       223 / 596                      0 / 0 / 0  2.0   \n",
       "3                   56 / 449 / 91                            NaN  NaN   \n",
       "4                         25 / 45                      0 / 0 / 0  0.0   \n",
       "..                            ...                            ...  ...   \n",
       "107                           NaN                            NaN  NaN   \n",
       "108                           NaN                            NaN  NaN   \n",
       "109                           NaN                            NaN  NaN   \n",
       "110                           NaN                            NaN  NaN   \n",
       "111                           NaN                            NaN  NaN   \n",
       "\n",
       "                          Propanec  Totald  \n",
       "0    (primary / secondary / total)     NaN  \n",
       "1                              NaN     NaN  \n",
       "2                     24 / 45 / 69   736.0  \n",
       "3                              NaN     NaN  \n",
       "4                        1 / 2 / 3    49.0  \n",
       "..                             ...     ...  \n",
       "107                            NaN     NaN  \n",
       "108                            NaN     NaN  \n",
       "109                            NaN     NaN  \n",
       "110                            NaN     NaN  \n",
       "111                            NaN     NaN  \n",
       "\n",
       "[112 rows x 9 columns]"
      ]
     },
     "execution_count": 8,
     "metadata": {},
     "output_type": "execute_result"
    }
   ],
   "source": [
    "import pandas as pd\n",
    "df = pd.read_excel(\"../notebooks/Historical Station Counts by State 2007-2021.xlsx\", sheet_name='2020', skiprows=1)\n",
    "df"
   ]
  },
  {
   "cell_type": "code",
   "execution_count": 9,
   "metadata": {},
   "outputs": [],
   "source": [
    "def clean_data(df: pd.DataFrame) -> pd.DataFrame:\n",
    "    df_cleaned = df.dropna(how=\"all\")\n",
    "    df_cleaned = df_cleaned.rename(columns={\"Totald\" : \"Total\"})\n",
    "    df_cleaned = df_cleaned[[\"State\", \"Total\"]]\n",
    "    df_cleaned = df_cleaned.dropna()\n",
    "    df_cleaned['State'] = df_cleaned['State'].astype('category')\n",
    "    return df_cleaned\n",
    "\n",
    "df_total = pd.DataFrame()\n",
    "for n in range(2007, 2022, 1):\n",
    "    df = pd.read_excel(\"../notebooks/Historical Station Counts by State 2007-2021.xlsx\", sheet_name=str(n), skiprows=1)\n",
    "    df_cleaned = clean_data(df)\n",
    "    df_cleaned[\"Year\"] = n\n",
    "    df_total = pd.concat([df_total, df_cleaned])"
   ]
  },
  {
   "cell_type": "markdown",
   "metadata": {},
   "source": [
    "Get some general info about the data"
   ]
  },
  {
   "cell_type": "code",
   "execution_count": 10,
   "metadata": {},
   "outputs": [
    {
     "name": "stdout",
     "output_type": "stream",
     "text": [
      "<class 'pandas.core.frame.DataFrame'>\n",
      "Int64Index: 780 entries, 2 to 104\n",
      "Data columns (total 3 columns):\n",
      " #   Column  Non-Null Count  Dtype   \n",
      "---  ------  --------------  -----   \n",
      " 0   State   780 non-null    category\n",
      " 1   Total   780 non-null    float64 \n",
      " 2   Year    780 non-null    int64   \n",
      "dtypes: category(1), float64(1), int64(1)\n",
      "memory usage: 21.5 KB\n"
     ]
    }
   ],
   "source": [
    "df_total.info(verbose=True)"
   ]
  },
  {
   "cell_type": "code",
   "execution_count": 11,
   "metadata": {},
   "outputs": [
    {
     "data": {
      "text/html": [
       "<div>\n",
       "<style scoped>\n",
       "    .dataframe tbody tr th:only-of-type {\n",
       "        vertical-align: middle;\n",
       "    }\n",
       "\n",
       "    .dataframe tbody tr th {\n",
       "        vertical-align: top;\n",
       "    }\n",
       "\n",
       "    .dataframe thead th {\n",
       "        text-align: right;\n",
       "    }\n",
       "</style>\n",
       "<table border=\"1\" class=\"dataframe\">\n",
       "  <thead>\n",
       "    <tr style=\"text-align: right;\">\n",
       "      <th></th>\n",
       "      <th>State</th>\n",
       "      <th>Total</th>\n",
       "      <th>Year</th>\n",
       "    </tr>\n",
       "  </thead>\n",
       "  <tbody>\n",
       "    <tr>\n",
       "      <th>count</th>\n",
       "      <td>780</td>\n",
       "      <td>780.000000</td>\n",
       "      <td>780.000000</td>\n",
       "    </tr>\n",
       "    <tr>\n",
       "      <th>unique</th>\n",
       "      <td>52</td>\n",
       "      <td>NaN</td>\n",
       "      <td>NaN</td>\n",
       "    </tr>\n",
       "    <tr>\n",
       "      <th>top</th>\n",
       "      <td>Alabama</td>\n",
       "      <td>NaN</td>\n",
       "      <td>NaN</td>\n",
       "    </tr>\n",
       "    <tr>\n",
       "      <th>freq</th>\n",
       "      <td>15</td>\n",
       "      <td>NaN</td>\n",
       "      <td>NaN</td>\n",
       "    </tr>\n",
       "    <tr>\n",
       "      <th>mean</th>\n",
       "      <td>NaN</td>\n",
       "      <td>1802.579487</td>\n",
       "      <td>2014.000000</td>\n",
       "    </tr>\n",
       "    <tr>\n",
       "      <th>std</th>\n",
       "      <td>NaN</td>\n",
       "      <td>8917.620078</td>\n",
       "      <td>4.323266</td>\n",
       "    </tr>\n",
       "    <tr>\n",
       "      <th>min</th>\n",
       "      <td>NaN</td>\n",
       "      <td>6.000000</td>\n",
       "      <td>2007.000000</td>\n",
       "    </tr>\n",
       "    <tr>\n",
       "      <th>25%</th>\n",
       "      <td>NaN</td>\n",
       "      <td>112.000000</td>\n",
       "      <td>2010.000000</td>\n",
       "    </tr>\n",
       "    <tr>\n",
       "      <th>50%</th>\n",
       "      <td>NaN</td>\n",
       "      <td>294.500000</td>\n",
       "      <td>2014.000000</td>\n",
       "    </tr>\n",
       "    <tr>\n",
       "      <th>75%</th>\n",
       "      <td>NaN</td>\n",
       "      <td>969.250000</td>\n",
       "      <td>2018.000000</td>\n",
       "    </tr>\n",
       "    <tr>\n",
       "      <th>max</th>\n",
       "      <td>NaN</td>\n",
       "      <td>138020.000000</td>\n",
       "      <td>2021.000000</td>\n",
       "    </tr>\n",
       "  </tbody>\n",
       "</table>\n",
       "</div>"
      ],
      "text/plain": [
       "          State          Total         Year\n",
       "count       780     780.000000   780.000000\n",
       "unique       52            NaN          NaN\n",
       "top     Alabama            NaN          NaN\n",
       "freq         15            NaN          NaN\n",
       "mean        NaN    1802.579487  2014.000000\n",
       "std         NaN    8917.620078     4.323266\n",
       "min         NaN       6.000000  2007.000000\n",
       "25%         NaN     112.000000  2010.000000\n",
       "50%         NaN     294.500000  2014.000000\n",
       "75%         NaN     969.250000  2018.000000\n",
       "max         NaN  138020.000000  2021.000000"
      ]
     },
     "execution_count": 11,
     "metadata": {},
     "output_type": "execute_result"
    }
   ],
   "source": [
    "df_total.describe(include='all')"
   ]
  },
  {
   "cell_type": "markdown",
   "metadata": {},
   "source": [
    "Check how many missing values we have"
   ]
  },
  {
   "cell_type": "code",
   "execution_count": 12,
   "metadata": {},
   "outputs": [
    {
     "data": {
      "text/plain": [
       "State    0.0\n",
       "Total    0.0\n",
       "Year     0.0\n",
       "dtype: float64"
      ]
     },
     "execution_count": 12,
     "metadata": {},
     "output_type": "execute_result"
    }
   ],
   "source": [
    "df_total.isna().mean()"
   ]
  },
  {
   "cell_type": "markdown",
   "metadata": {},
   "source": [
    "## Training a regression model on all data"
   ]
  },
  {
   "cell_type": "code",
   "execution_count": 13,
   "metadata": {},
   "outputs": [
    {
     "data": {
      "text/html": [
       "<div>\n",
       "<style scoped>\n",
       "    .dataframe tbody tr th:only-of-type {\n",
       "        vertical-align: middle;\n",
       "    }\n",
       "\n",
       "    .dataframe tbody tr th {\n",
       "        vertical-align: top;\n",
       "    }\n",
       "\n",
       "    .dataframe thead th {\n",
       "        text-align: right;\n",
       "    }\n",
       "</style>\n",
       "<table border=\"1\" class=\"dataframe\">\n",
       "  <thead>\n",
       "    <tr style=\"text-align: right;\">\n",
       "      <th></th>\n",
       "      <th>value</th>\n",
       "    </tr>\n",
       "  </thead>\n",
       "  <tbody>\n",
       "    <tr>\n",
       "      <th>iterations</th>\n",
       "      <td>[1]</td>\n",
       "    </tr>\n",
       "    <tr>\n",
       "      <th>total_row_count</th>\n",
       "      <td>[780]</td>\n",
       "    </tr>\n",
       "    <tr>\n",
       "      <th>active_feature_count</th>\n",
       "      <td>[0]</td>\n",
       "    </tr>\n",
       "    <tr>\n",
       "      <th>inactive_feature_count</th>\n",
       "      <td>[0]</td>\n",
       "    </tr>\n",
       "    <tr>\n",
       "      <th>mean_abs_error</th>\n",
       "      <td>[2135.573194701547]</td>\n",
       "    </tr>\n",
       "    <tr>\n",
       "      <th>median_abs_error</th>\n",
       "      <td>[1219.1665344076357]</td>\n",
       "    </tr>\n",
       "    <tr>\n",
       "      <th>norm_mean_abs_error</th>\n",
       "      <td>[7.342613158699871]</td>\n",
       "    </tr>\n",
       "    <tr>\n",
       "      <th>norm_median_abs_error</th>\n",
       "      <td>[3.175207212114723]</td>\n",
       "    </tr>\n",
       "    <tr>\n",
       "      <th>mean_squared_error</th>\n",
       "      <td>[38106248.46253327]</td>\n",
       "    </tr>\n",
       "  </tbody>\n",
       "</table>\n",
       "</div>"
      ],
      "text/plain": [
       "                                       value\n",
       "iterations                               [1]\n",
       "total_row_count                        [780]\n",
       "active_feature_count                     [0]\n",
       "inactive_feature_count                   [0]\n",
       "mean_abs_error           [2135.573194701547]\n",
       "median_abs_error        [1219.1665344076357]\n",
       "norm_mean_abs_error      [7.342613158699871]\n",
       "norm_median_abs_error    [3.175207212114723]\n",
       "mean_squared_error       [38106248.46253327]"
      ]
     },
     "execution_count": 13,
     "metadata": {},
     "output_type": "execute_result"
    }
   ],
   "source": [
    "from mlwrap.algorithms import get_sklearn_linear_model\n",
    "from mlwrap.config import MLConfig, TrainingResults\n",
    "from mlwrap.enums import ProblemType\n",
    "from mlwrap import runners, scores\n",
    "\n",
    "df_train = df_total\n",
    "problem_type = ProblemType.Regression\n",
    "config = MLConfig(\n",
    "                problem_type=problem_type,\n",
    "                model_feature_id=\"Total\",\n",
    "                algorithm=get_sklearn_linear_model(problem_type)\n",
    "            )\n",
    "results = runners.train(config, df_train)\n",
    "scores.print_scores(results.scores)"
   ]
  },
  {
   "cell_type": "markdown",
   "metadata": {},
   "source": [
    "Scores are better for states with lower counts if we train a model per state.\n",
    "\n",
    "It is also cleaner if we just use the Total value for all states."
   ]
  },
  {
   "cell_type": "code",
   "execution_count": 63,
   "metadata": {},
   "outputs": [
    {
     "name": "stderr",
     "output_type": "stream",
     "text": [
      "/var/folders/vc/2v8cvy_11715btkp90f5tzyw0000gn/T/ipykernel_82508/3986169313.py:1: UserWarning: Boolean Series key will be reindexed to match DataFrame index.\n",
      "  df_train_total = df_total[df['State'] == 'Total']\n"
     ]
    },
    {
     "data": {
      "text/plain": [
       "<AxesSubplot: xlabel='Year'>"
      ]
     },
     "execution_count": 63,
     "metadata": {},
     "output_type": "execute_result"
    },
    {
     "data": {
      "image/png": "[encoded data removed]",
      "text/plain": [
       "<Figure size 640x480 with 1 Axes>"
      ]
     },
     "metadata": {},
     "output_type": "display_data"
    }
   ],
   "source": [
    "df_train_total = df_total[df['State'] == 'Total']\n",
    "df_train_total = df_train_total.drop('State', axis=1)\n",
    "df_train_total = df_train_total.reset_index(drop=True)\n",
    "df_train_total.plot(x=\"Year\",y=\"Total\")"
   ]
  },
  {
   "cell_type": "code",
   "execution_count": 64,
   "metadata": {},
   "outputs": [
    {
     "data": {
      "text/html": [
       "<div>\n",
       "<style scoped>\n",
       "    .dataframe tbody tr th:only-of-type {\n",
       "        vertical-align: middle;\n",
       "    }\n",
       "\n",
       "    .dataframe tbody tr th {\n",
       "        vertical-align: top;\n",
       "    }\n",
       "\n",
       "    .dataframe thead th {\n",
       "        text-align: right;\n",
       "    }\n",
       "</style>\n",
       "<table border=\"1\" class=\"dataframe\">\n",
       "  <thead>\n",
       "    <tr style=\"text-align: right;\">\n",
       "      <th></th>\n",
       "      <th>Total</th>\n",
       "      <th>Year</th>\n",
       "    </tr>\n",
       "  </thead>\n",
       "  <tbody>\n",
       "    <tr>\n",
       "      <th>0</th>\n",
       "      <td>5692.0</td>\n",
       "      <td>2007</td>\n",
       "    </tr>\n",
       "    <tr>\n",
       "      <th>1</th>\n",
       "      <td>5742.0</td>\n",
       "      <td>2008</td>\n",
       "    </tr>\n",
       "    <tr>\n",
       "      <th>2</th>\n",
       "      <td>6449.0</td>\n",
       "      <td>2009</td>\n",
       "    </tr>\n",
       "    <tr>\n",
       "      <th>3</th>\n",
       "      <td>7111.0</td>\n",
       "      <td>2010</td>\n",
       "    </tr>\n",
       "    <tr>\n",
       "      <th>4</th>\n",
       "      <td>11788.0</td>\n",
       "      <td>2011</td>\n",
       "    </tr>\n",
       "    <tr>\n",
       "      <th>5</th>\n",
       "      <td>22561.0</td>\n",
       "      <td>2012</td>\n",
       "    </tr>\n",
       "    <tr>\n",
       "      <th>6</th>\n",
       "      <td>27314.0</td>\n",
       "      <td>2013</td>\n",
       "    </tr>\n",
       "    <tr>\n",
       "      <th>7</th>\n",
       "      <td>33805.0</td>\n",
       "      <td>2014</td>\n",
       "    </tr>\n",
       "    <tr>\n",
       "      <th>8</th>\n",
       "      <td>43384.0</td>\n",
       "      <td>2015</td>\n",
       "    </tr>\n",
       "    <tr>\n",
       "      <th>9</th>\n",
       "      <td>54517.0</td>\n",
       "      <td>2016</td>\n",
       "    </tr>\n",
       "    <tr>\n",
       "      <th>10</th>\n",
       "      <td>62592.0</td>\n",
       "      <td>2017</td>\n",
       "    </tr>\n",
       "    <tr>\n",
       "      <th>11</th>\n",
       "      <td>73475.0</td>\n",
       "      <td>2018</td>\n",
       "    </tr>\n",
       "    <tr>\n",
       "      <th>12</th>\n",
       "      <td>94410.0</td>\n",
       "      <td>2019</td>\n",
       "    </tr>\n",
       "    <tr>\n",
       "      <th>13</th>\n",
       "      <td>116146.0</td>\n",
       "      <td>2020</td>\n",
       "    </tr>\n",
       "    <tr>\n",
       "      <th>14</th>\n",
       "      <td>138020.0</td>\n",
       "      <td>2021</td>\n",
       "    </tr>\n",
       "  </tbody>\n",
       "</table>\n",
       "</div>"
      ],
      "text/plain": [
       "       Total  Year\n",
       "0     5692.0  2007\n",
       "1     5742.0  2008\n",
       "2     6449.0  2009\n",
       "3     7111.0  2010\n",
       "4    11788.0  2011\n",
       "5    22561.0  2012\n",
       "6    27314.0  2013\n",
       "7    33805.0  2014\n",
       "8    43384.0  2015\n",
       "9    54517.0  2016\n",
       "10   62592.0  2017\n",
       "11   73475.0  2018\n",
       "12   94410.0  2019\n",
       "13  116146.0  2020\n",
       "14  138020.0  2021"
      ]
     },
     "execution_count": 64,
     "metadata": {},
     "output_type": "execute_result"
    }
   ],
   "source": [
    "df_train_total"
   ]
  },
  {
   "cell_type": "code",
   "execution_count": 65,
   "metadata": {},
   "outputs": [
    {
     "data": {
      "text/html": [
       "<div>\n",
       "<style scoped>\n",
       "    .dataframe tbody tr th:only-of-type {\n",
       "        vertical-align: middle;\n",
       "    }\n",
       "\n",
       "    .dataframe tbody tr th {\n",
       "        vertical-align: top;\n",
       "    }\n",
       "\n",
       "    .dataframe thead th {\n",
       "        text-align: right;\n",
       "    }\n",
       "</style>\n",
       "<table border=\"1\" class=\"dataframe\">\n",
       "  <thead>\n",
       "    <tr style=\"text-align: right;\">\n",
       "      <th></th>\n",
       "      <th>value</th>\n",
       "    </tr>\n",
       "  </thead>\n",
       "  <tbody>\n",
       "    <tr>\n",
       "      <th>iterations</th>\n",
       "      <td>[1]</td>\n",
       "    </tr>\n",
       "    <tr>\n",
       "      <th>total_row_count</th>\n",
       "      <td>[15]</td>\n",
       "    </tr>\n",
       "    <tr>\n",
       "      <th>active_feature_count</th>\n",
       "      <td>[0]</td>\n",
       "    </tr>\n",
       "    <tr>\n",
       "      <th>inactive_feature_count</th>\n",
       "      <td>[0]</td>\n",
       "    </tr>\n",
       "    <tr>\n",
       "      <th>mean_abs_error</th>\n",
       "      <td>[13311.892490546432]</td>\n",
       "    </tr>\n",
       "    <tr>\n",
       "      <th>median_abs_error</th>\n",
       "      <td>[11999.722852512365]</td>\n",
       "    </tr>\n",
       "    <tr>\n",
       "      <th>norm_mean_abs_error</th>\n",
       "      <td>[1.7542710574266558]</td>\n",
       "    </tr>\n",
       "    <tr>\n",
       "      <th>norm_median_abs_error</th>\n",
       "      <td>[0.3549688759802503]</td>\n",
       "    </tr>\n",
       "    <tr>\n",
       "      <th>mean_squared_error</th>\n",
       "      <td>[308126963.6320984]</td>\n",
       "    </tr>\n",
       "  </tbody>\n",
       "</table>\n",
       "</div>"
      ],
      "text/plain": [
       "                                       value\n",
       "iterations                               [1]\n",
       "total_row_count                         [15]\n",
       "active_feature_count                     [0]\n",
       "inactive_feature_count                   [0]\n",
       "mean_abs_error          [13311.892490546432]\n",
       "median_abs_error        [11999.722852512365]\n",
       "norm_mean_abs_error     [1.7542710574266558]\n",
       "norm_median_abs_error   [0.3549688759802503]\n",
       "mean_squared_error       [308126963.6320984]"
      ]
     },
     "execution_count": 65,
     "metadata": {},
     "output_type": "execute_result"
    }
   ],
   "source": [
    "results_total = runners.train(config, df_train_total)\n",
    "scores.print_scores(results_total.scores)"
   ]
  },
  {
   "cell_type": "markdown",
   "metadata": {},
   "source": [
    "## Make predictions\n",
    "\n",
    "Use a slight overlap with the input data to see how the predictions would match the training set."
   ]
  },
  {
   "cell_type": "code",
   "execution_count": 66,
   "metadata": {},
   "outputs": [
    {
     "data": {
      "text/plain": [
       "array([ 55525.88573744,  65247.04862237,  74968.21150729,  84689.37439222,\n",
       "        94410.53727715, 104131.70016207, 113852.863047  , 123574.02593193,\n",
       "       133295.18881685, 143016.35170178, 152737.51458671, 162458.67747164,\n",
       "       172179.84035657, 181901.00324149, 191622.16612642, 201343.32901135])"
      ]
     },
     "execution_count": 66,
     "metadata": {},
     "output_type": "execute_result"
    }
   ],
   "source": [
    "years = [y for y in range(2015, 2031)]\n",
    "df_test = pd.DataFrame({\"Year\" : years})\n",
    "predictions = results_total.model.predict(df_test)\n",
    "predictions\n"
   ]
  },
  {
   "cell_type": "code",
   "execution_count": 67,
   "metadata": {},
   "outputs": [
    {
     "data": {
      "text/html": [
       "<div>\n",
       "<style scoped>\n",
       "    .dataframe tbody tr th:only-of-type {\n",
       "        vertical-align: middle;\n",
       "    }\n",
       "\n",
       "    .dataframe tbody tr th {\n",
       "        vertical-align: top;\n",
       "    }\n",
       "\n",
       "    .dataframe thead th {\n",
       "        text-align: right;\n",
       "    }\n",
       "</style>\n",
       "<table border=\"1\" class=\"dataframe\">\n",
       "  <thead>\n",
       "    <tr style=\"text-align: right;\">\n",
       "      <th></th>\n",
       "      <th>Year</th>\n",
       "      <th>Prediction</th>\n",
       "    </tr>\n",
       "  </thead>\n",
       "  <tbody>\n",
       "    <tr>\n",
       "      <th>0</th>\n",
       "      <td>2015</td>\n",
       "      <td>55525.885737</td>\n",
       "    </tr>\n",
       "    <tr>\n",
       "      <th>1</th>\n",
       "      <td>2016</td>\n",
       "      <td>65247.048622</td>\n",
       "    </tr>\n",
       "    <tr>\n",
       "      <th>2</th>\n",
       "      <td>2017</td>\n",
       "      <td>74968.211507</td>\n",
       "    </tr>\n",
       "    <tr>\n",
       "      <th>3</th>\n",
       "      <td>2018</td>\n",
       "      <td>84689.374392</td>\n",
       "    </tr>\n",
       "    <tr>\n",
       "      <th>4</th>\n",
       "      <td>2019</td>\n",
       "      <td>94410.537277</td>\n",
       "    </tr>\n",
       "    <tr>\n",
       "      <th>5</th>\n",
       "      <td>2020</td>\n",
       "      <td>104131.700162</td>\n",
       "    </tr>\n",
       "    <tr>\n",
       "      <th>6</th>\n",
       "      <td>2021</td>\n",
       "      <td>113852.863047</td>\n",
       "    </tr>\n",
       "    <tr>\n",
       "      <th>7</th>\n",
       "      <td>2022</td>\n",
       "      <td>123574.025932</td>\n",
       "    </tr>\n",
       "    <tr>\n",
       "      <th>8</th>\n",
       "      <td>2023</td>\n",
       "      <td>133295.188817</td>\n",
       "    </tr>\n",
       "    <tr>\n",
       "      <th>9</th>\n",
       "      <td>2024</td>\n",
       "      <td>143016.351702</td>\n",
       "    </tr>\n",
       "    <tr>\n",
       "      <th>10</th>\n",
       "      <td>2025</td>\n",
       "      <td>152737.514587</td>\n",
       "    </tr>\n",
       "    <tr>\n",
       "      <th>11</th>\n",
       "      <td>2026</td>\n",
       "      <td>162458.677472</td>\n",
       "    </tr>\n",
       "    <tr>\n",
       "      <th>12</th>\n",
       "      <td>2027</td>\n",
       "      <td>172179.840357</td>\n",
       "    </tr>\n",
       "    <tr>\n",
       "      <th>13</th>\n",
       "      <td>2028</td>\n",
       "      <td>181901.003241</td>\n",
       "    </tr>\n",
       "    <tr>\n",
       "      <th>14</th>\n",
       "      <td>2029</td>\n",
       "      <td>191622.166126</td>\n",
       "    </tr>\n",
       "    <tr>\n",
       "      <th>15</th>\n",
       "      <td>2030</td>\n",
       "      <td>201343.329011</td>\n",
       "    </tr>\n",
       "  </tbody>\n",
       "</table>\n",
       "</div>"
      ],
      "text/plain": [
       "    Year     Prediction\n",
       "0   2015   55525.885737\n",
       "1   2016   65247.048622\n",
       "2   2017   74968.211507\n",
       "3   2018   84689.374392\n",
       "4   2019   94410.537277\n",
       "5   2020  104131.700162\n",
       "6   2021  113852.863047\n",
       "7   2022  123574.025932\n",
       "8   2023  133295.188817\n",
       "9   2024  143016.351702\n",
       "10  2025  152737.514587\n",
       "11  2026  162458.677472\n",
       "12  2027  172179.840357\n",
       "13  2028  181901.003241\n",
       "14  2029  191622.166126\n",
       "15  2030  201343.329011"
      ]
     },
     "execution_count": 67,
     "metadata": {},
     "output_type": "execute_result"
    }
   ],
   "source": [
    "df_test['Prediction'] = predictions.tolist()\n",
    "df_test"
   ]
  },
  {
   "cell_type": "markdown",
   "metadata": {},
   "source": [
    "Plot the predictions against the training set"
   ]
  },
  {
   "cell_type": "code",
   "execution_count": 68,
   "metadata": {},
   "outputs": [
    {
     "data": {
      "image/png": "[encoded data removed]",
      "text/plain": [
       "<Figure size 800x600 with 1 Axes>"
      ]
     },
     "metadata": {},
     "output_type": "display_data"
    }
   ],
   "source": [
    "import matplotlib.pyplot as plt\n",
    "def plot_predictions(train, test):\n",
    "    plt.figure(figsize=(8,6))\n",
    "    plt.plot(train.Year, train.Total, label='Train')\n",
    "    plt.plot(test.Year, test.Prediction, label='Prediction')\n",
    "    # plt.xticks(df_train_total[\"Year\"], df_train_total[\"Year\"], rotation='vertical')\n",
    "    plt.yscale('log')\n",
    "    plt.legend(loc='best')\n",
    "    plt.title(\"Predictions vs input\")\n",
    "    plt.show()\n",
    "plot_predictions(df_train_total, df_test)"
   ]
  },
  {
   "cell_type": "markdown",
   "metadata": {},
   "source": [
    "The linear model fit is... well... a straight line. Good start but this could likely be improved by adding a window function and then making extrapolated predictions by recursively folding model predictions (i.e. walk-forward)."
   ]
  },
  {
   "cell_type": "markdown",
   "metadata": {},
   "source": [
    "## Try an auto-regressive model\n"
   ]
  },
  {
   "cell_type": "code",
   "execution_count": 69,
   "metadata": {},
   "outputs": [
    {
     "name": "stdout",
     "output_type": "stream",
     "text": [
      "Coefficients:\n",
      "const       1677.889938\n",
      "Total.L1       1.192638\n",
      "dtype: float64\n"
     ]
    }
   ],
   "source": [
    "from statsmodels.tsa.ar_model import AutoReg\n",
    "model_ag = AutoReg(endog = df_train_total[\"Total\"], \\\n",
    "                   lags = 1, \\\n",
    "                   trend='c', \\\n",
    "                   seasonal = False, \\\n",
    "                   exog = None, \\\n",
    "                   hold_back = None, \\\n",
    "                   period = None, \\\n",
    "                   missing = 'none')\n",
    "fit_ag = model_ag.fit()\n",
    "print(\"Coefficients:\\n%s\" % fit_ag.params)"
   ]
  },
  {
   "cell_type": "code",
   "execution_count": 70,
   "metadata": {},
   "outputs": [
    {
     "data": {
      "text/html": [
       "<div>\n",
       "<style scoped>\n",
       "    .dataframe tbody tr th:only-of-type {\n",
       "        vertical-align: middle;\n",
       "    }\n",
       "\n",
       "    .dataframe tbody tr th {\n",
       "        vertical-align: top;\n",
       "    }\n",
       "\n",
       "    .dataframe thead th {\n",
       "        text-align: right;\n",
       "    }\n",
       "</style>\n",
       "<table border=\"1\" class=\"dataframe\">\n",
       "  <thead>\n",
       "    <tr style=\"text-align: right;\">\n",
       "      <th></th>\n",
       "      <th>Year</th>\n",
       "      <th>Prediction</th>\n",
       "    </tr>\n",
       "  </thead>\n",
       "  <tbody>\n",
       "    <tr>\n",
       "      <th>0</th>\n",
       "      <td>2022</td>\n",
       "      <td>1.662857e+05</td>\n",
       "    </tr>\n",
       "    <tr>\n",
       "      <th>1</th>\n",
       "      <td>2023</td>\n",
       "      <td>1.999965e+05</td>\n",
       "    </tr>\n",
       "    <tr>\n",
       "      <th>2</th>\n",
       "      <td>2024</td>\n",
       "      <td>2.402012e+05</td>\n",
       "    </tr>\n",
       "    <tr>\n",
       "      <th>3</th>\n",
       "      <td>2025</td>\n",
       "      <td>2.881509e+05</td>\n",
       "    </tr>\n",
       "    <tr>\n",
       "      <th>4</th>\n",
       "      <td>2026</td>\n",
       "      <td>3.453375e+05</td>\n",
       "    </tr>\n",
       "    <tr>\n",
       "      <th>5</th>\n",
       "      <td>2027</td>\n",
       "      <td>4.135404e+05</td>\n",
       "    </tr>\n",
       "    <tr>\n",
       "      <th>6</th>\n",
       "      <td>2028</td>\n",
       "      <td>4.948817e+05</td>\n",
       "    </tr>\n",
       "    <tr>\n",
       "      <th>7</th>\n",
       "      <td>2029</td>\n",
       "      <td>5.918924e+05</td>\n",
       "    </tr>\n",
       "    <tr>\n",
       "      <th>8</th>\n",
       "      <td>2030</td>\n",
       "      <td>7.075910e+05</td>\n",
       "    </tr>\n",
       "    <tr>\n",
       "      <th>9</th>\n",
       "      <td>2031</td>\n",
       "      <td>8.455775e+05</td>\n",
       "    </tr>\n",
       "    <tr>\n",
       "      <th>10</th>\n",
       "      <td>2032</td>\n",
       "      <td>1.010145e+06</td>\n",
       "    </tr>\n",
       "    <tr>\n",
       "      <th>11</th>\n",
       "      <td>2033</td>\n",
       "      <td>1.206415e+06</td>\n",
       "    </tr>\n",
       "    <tr>\n",
       "      <th>12</th>\n",
       "      <td>2034</td>\n",
       "      <td>1.440494e+06</td>\n",
       "    </tr>\n",
       "    <tr>\n",
       "      <th>13</th>\n",
       "      <td>2035</td>\n",
       "      <td>1.719665e+06</td>\n",
       "    </tr>\n",
       "    <tr>\n",
       "      <th>14</th>\n",
       "      <td>2036</td>\n",
       "      <td>2.052615e+06</td>\n",
       "    </tr>\n",
       "    <tr>\n",
       "      <th>15</th>\n",
       "      <td>2037</td>\n",
       "      <td>2.449704e+06</td>\n",
       "    </tr>\n",
       "    <tr>\n",
       "      <th>16</th>\n",
       "      <td>2038</td>\n",
       "      <td>2.923287e+06</td>\n",
       "    </tr>\n",
       "    <tr>\n",
       "      <th>17</th>\n",
       "      <td>2039</td>\n",
       "      <td>3.488100e+06</td>\n",
       "    </tr>\n",
       "    <tr>\n",
       "      <th>18</th>\n",
       "      <td>2040</td>\n",
       "      <td>4.161717e+06</td>\n",
       "    </tr>\n",
       "    <tr>\n",
       "      <th>19</th>\n",
       "      <td>2041</td>\n",
       "      <td>4.965098e+06</td>\n",
       "    </tr>\n",
       "    <tr>\n",
       "      <th>20</th>\n",
       "      <td>2042</td>\n",
       "      <td>5.923241e+06</td>\n",
       "    </tr>\n",
       "  </tbody>\n",
       "</table>\n",
       "</div>"
      ],
      "text/plain": [
       "    Year    Prediction\n",
       "0   2022  1.662857e+05\n",
       "1   2023  1.999965e+05\n",
       "2   2024  2.402012e+05\n",
       "3   2025  2.881509e+05\n",
       "4   2026  3.453375e+05\n",
       "5   2027  4.135404e+05\n",
       "6   2028  4.948817e+05\n",
       "7   2029  5.918924e+05\n",
       "8   2030  7.075910e+05\n",
       "9   2031  8.455775e+05\n",
       "10  2032  1.010145e+06\n",
       "11  2033  1.206415e+06\n",
       "12  2034  1.440494e+06\n",
       "13  2035  1.719665e+06\n",
       "14  2036  2.052615e+06\n",
       "15  2037  2.449704e+06\n",
       "16  2038  2.923287e+06\n",
       "17  2039  3.488100e+06\n",
       "18  2040  4.161717e+06\n",
       "19  2041  4.965098e+06\n",
       "20  2042  5.923241e+06"
      ]
     },
     "execution_count": 70,
     "metadata": {},
     "output_type": "execute_result"
    }
   ],
   "source": [
    "df_train_total['Year'].iloc[-1]\n",
    "years = [y for y in range(df_train_total.Year.iloc[-1]+1, df_train_total.Year.iloc[-1] + 22)]\n",
    "years\n",
    "\n",
    "predictions = fit_ag.predict(start=len(df_train_total), \\\n",
    "                             end=len(df_train_total)+20, \\\n",
    "                             dynamic=False)\n",
    "df_test_ar = pd.DataFrame({\"Year\" : years, \"Prediction\" : predictions.tolist()})\n",
    "df_test_ar"
   ]
  },
  {
   "cell_type": "code",
   "execution_count": 71,
   "metadata": {},
   "outputs": [
    {
     "data": {
      "image/png": "[encoded data removed]",
      "text/plain": [
       "<Figure size 800x600 with 1 Axes>"
      ]
     },
     "metadata": {},
     "output_type": "display_data"
    }
   ],
   "source": [
    "plot_predictions(df_train_total, df_test_ar)"
   ]
  },
  {
   "cell_type": "markdown",
   "metadata": {},
   "source": [
    "Make a prediction using datetime stamps rather than array indices as that is what we would want to use in a predict API"
   ]
  },
  {
   "cell_type": "code",
   "execution_count": 73,
   "metadata": {},
   "outputs": [
    {
     "name": "stdout",
     "output_type": "stream",
     "text": [
      "<class 'pandas.core.frame.DataFrame'>\n",
      "DatetimeIndex: 15 entries, 2007-01-01 to 2021-01-01\n",
      "Data columns (total 1 columns):\n",
      " #   Column  Non-Null Count  Dtype  \n",
      "---  ------  --------------  -----  \n",
      " 0   Total   15 non-null     float64\n",
      "dtypes: float64(1)\n",
      "memory usage: 240.0 bytes\n"
     ]
    }
   ],
   "source": [
    "def get_training_data_with_datetime_index(df) -> pd.DataFrame:\n",
    "    df = df.copy()\n",
    "    df.Year = pd.to_datetime(df.Year, format=\"%Y\")\n",
    "    df.reset_index(drop=True)\n",
    "    df = df.set_index('Year')\n",
    "    return df\n",
    "df_dt = get_training_data_with_datetime_index(df_train_total)\n",
    "df_dt.info()"
   ]
  },
  {
   "cell_type": "code",
   "execution_count": 82,
   "metadata": {},
   "outputs": [
    {
     "name": "stdout",
     "output_type": "stream",
     "text": [
      "Coefficients:\n",
      "const       1677.889938\n",
      "Total.L1       1.192638\n",
      "dtype: float64\n"
     ]
    },
    {
     "name": "stderr",
     "output_type": "stream",
     "text": [
      "/Users/rossparkin/Projects/ak/mlops-intro/.venv/lib/python3.9/site-packages/statsmodels/tsa/base/tsa_model.py:471: ValueWarning: No frequency information was provided, so inferred frequency AS-JAN will be used.\n",
      "  self._init_dates(dates, freq)\n"
     ]
    }
   ],
   "source": [
    "model_ag = AutoReg(endog = df_dt, \\\n",
    "                   lags = 1, \\\n",
    "                   trend='c', \\\n",
    "                   seasonal = False, \\\n",
    "                   exog = None, \\\n",
    "                   hold_back = None, \\\n",
    "                   period = None, \\\n",
    "                   missing = 'none')\n",
    "fit_ag = model_ag.fit()\n",
    "print(\"Coefficients:\\n%s\" % fit_ag.params)"
   ]
  },
  {
   "cell_type": "code",
   "execution_count": 83,
   "metadata": {},
   "outputs": [
    {
     "name": "stderr",
     "output_type": "stream",
     "text": [
      "/Users/rossparkin/Projects/ak/mlops-intro/.venv/lib/python3.9/site-packages/statsmodels/tsa/deterministic.py:302: UserWarning: Only PeriodIndexes, DatetimeIndexes with a frequency set, RangesIndexes, and Index with a unit increment support extending. The index is set will contain the position relative to the data length.\n",
      "  fcast_index = self._extend_index(index, steps, forecast_index)\n"
     ]
    },
    {
     "data": {
      "text/html": [
       "<div>\n",
       "<style scoped>\n",
       "    .dataframe tbody tr th:only-of-type {\n",
       "        vertical-align: middle;\n",
       "    }\n",
       "\n",
       "    .dataframe tbody tr th {\n",
       "        vertical-align: top;\n",
       "    }\n",
       "\n",
       "    .dataframe thead th {\n",
       "        text-align: right;\n",
       "    }\n",
       "</style>\n",
       "<table border=\"1\" class=\"dataframe\">\n",
       "  <thead>\n",
       "    <tr style=\"text-align: right;\">\n",
       "      <th></th>\n",
       "      <th>Year</th>\n",
       "      <th>Prediction</th>\n",
       "    </tr>\n",
       "  </thead>\n",
       "  <tbody>\n",
       "    <tr>\n",
       "      <th>2016-01-01</th>\n",
       "      <td>2016-01-01</td>\n",
       "      <td>5.341928e+04</td>\n",
       "    </tr>\n",
       "    <tr>\n",
       "      <th>2017-01-01</th>\n",
       "      <td>2017-01-01</td>\n",
       "      <td>6.669691e+04</td>\n",
       "    </tr>\n",
       "    <tr>\n",
       "      <th>2018-01-01</th>\n",
       "      <td>2018-01-01</td>\n",
       "      <td>7.632746e+04</td>\n",
       "    </tr>\n",
       "    <tr>\n",
       "      <th>2019-01-01</th>\n",
       "      <td>2019-01-01</td>\n",
       "      <td>8.930694e+04</td>\n",
       "    </tr>\n",
       "    <tr>\n",
       "      <th>2020-01-01</th>\n",
       "      <td>2020-01-01</td>\n",
       "      <td>1.142748e+05</td>\n",
       "    </tr>\n",
       "    <tr>\n",
       "      <th>2021-01-01</th>\n",
       "      <td>2021-01-01</td>\n",
       "      <td>1.401980e+05</td>\n",
       "    </tr>\n",
       "    <tr>\n",
       "      <th>2022-01-01</th>\n",
       "      <td>2022-01-01</td>\n",
       "      <td>1.662857e+05</td>\n",
       "    </tr>\n",
       "    <tr>\n",
       "      <th>2023-01-01</th>\n",
       "      <td>2023-01-01</td>\n",
       "      <td>1.999965e+05</td>\n",
       "    </tr>\n",
       "    <tr>\n",
       "      <th>2024-01-01</th>\n",
       "      <td>2024-01-01</td>\n",
       "      <td>2.402012e+05</td>\n",
       "    </tr>\n",
       "    <tr>\n",
       "      <th>2025-01-01</th>\n",
       "      <td>2025-01-01</td>\n",
       "      <td>2.881509e+05</td>\n",
       "    </tr>\n",
       "    <tr>\n",
       "      <th>2026-01-01</th>\n",
       "      <td>2026-01-01</td>\n",
       "      <td>3.453375e+05</td>\n",
       "    </tr>\n",
       "    <tr>\n",
       "      <th>2027-01-01</th>\n",
       "      <td>2027-01-01</td>\n",
       "      <td>4.135404e+05</td>\n",
       "    </tr>\n",
       "    <tr>\n",
       "      <th>2028-01-01</th>\n",
       "      <td>2028-01-01</td>\n",
       "      <td>4.948817e+05</td>\n",
       "    </tr>\n",
       "    <tr>\n",
       "      <th>2029-01-01</th>\n",
       "      <td>2029-01-01</td>\n",
       "      <td>5.918924e+05</td>\n",
       "    </tr>\n",
       "    <tr>\n",
       "      <th>2030-01-01</th>\n",
       "      <td>2030-01-01</td>\n",
       "      <td>7.075910e+05</td>\n",
       "    </tr>\n",
       "    <tr>\n",
       "      <th>2031-01-01</th>\n",
       "      <td>2031-01-01</td>\n",
       "      <td>8.455775e+05</td>\n",
       "    </tr>\n",
       "    <tr>\n",
       "      <th>2032-01-01</th>\n",
       "      <td>2032-01-01</td>\n",
       "      <td>1.010145e+06</td>\n",
       "    </tr>\n",
       "    <tr>\n",
       "      <th>2033-01-01</th>\n",
       "      <td>2033-01-01</td>\n",
       "      <td>1.206415e+06</td>\n",
       "    </tr>\n",
       "    <tr>\n",
       "      <th>2034-01-01</th>\n",
       "      <td>2034-01-01</td>\n",
       "      <td>1.440494e+06</td>\n",
       "    </tr>\n",
       "    <tr>\n",
       "      <th>2035-01-01</th>\n",
       "      <td>2035-01-01</td>\n",
       "      <td>1.719665e+06</td>\n",
       "    </tr>\n",
       "    <tr>\n",
       "      <th>2036-01-01</th>\n",
       "      <td>2036-01-01</td>\n",
       "      <td>2.052615e+06</td>\n",
       "    </tr>\n",
       "    <tr>\n",
       "      <th>2037-01-01</th>\n",
       "      <td>2037-01-01</td>\n",
       "      <td>2.449704e+06</td>\n",
       "    </tr>\n",
       "    <tr>\n",
       "      <th>2038-01-01</th>\n",
       "      <td>2038-01-01</td>\n",
       "      <td>2.923287e+06</td>\n",
       "    </tr>\n",
       "    <tr>\n",
       "      <th>2039-01-01</th>\n",
       "      <td>2039-01-01</td>\n",
       "      <td>3.488100e+06</td>\n",
       "    </tr>\n",
       "    <tr>\n",
       "      <th>2040-01-01</th>\n",
       "      <td>2040-01-01</td>\n",
       "      <td>4.161717e+06</td>\n",
       "    </tr>\n",
       "  </tbody>\n",
       "</table>\n",
       "</div>"
      ],
      "text/plain": [
       "                 Year    Prediction\n",
       "2016-01-01 2016-01-01  5.341928e+04\n",
       "2017-01-01 2017-01-01  6.669691e+04\n",
       "2018-01-01 2018-01-01  7.632746e+04\n",
       "2019-01-01 2019-01-01  8.930694e+04\n",
       "2020-01-01 2020-01-01  1.142748e+05\n",
       "2021-01-01 2021-01-01  1.401980e+05\n",
       "2022-01-01 2022-01-01  1.662857e+05\n",
       "2023-01-01 2023-01-01  1.999965e+05\n",
       "2024-01-01 2024-01-01  2.402012e+05\n",
       "2025-01-01 2025-01-01  2.881509e+05\n",
       "2026-01-01 2026-01-01  3.453375e+05\n",
       "2027-01-01 2027-01-01  4.135404e+05\n",
       "2028-01-01 2028-01-01  4.948817e+05\n",
       "2029-01-01 2029-01-01  5.918924e+05\n",
       "2030-01-01 2030-01-01  7.075910e+05\n",
       "2031-01-01 2031-01-01  8.455775e+05\n",
       "2032-01-01 2032-01-01  1.010145e+06\n",
       "2033-01-01 2033-01-01  1.206415e+06\n",
       "2034-01-01 2034-01-01  1.440494e+06\n",
       "2035-01-01 2035-01-01  1.719665e+06\n",
       "2036-01-01 2036-01-01  2.052615e+06\n",
       "2037-01-01 2037-01-01  2.449704e+06\n",
       "2038-01-01 2038-01-01  2.923287e+06\n",
       "2039-01-01 2039-01-01  3.488100e+06\n",
       "2040-01-01 2040-01-01  4.161717e+06"
      ]
     },
     "execution_count": 83,
     "metadata": {},
     "output_type": "execute_result"
    }
   ],
   "source": [
    "from datetime import datetime\n",
    "predictions = fit_ag.predict(start=datetime(2016, 1, 1), \\\n",
    "                             end=datetime(2040, 1, 1), \\\n",
    "                             dynamic=False)\n",
    "df_pred = pd.DataFrame({\"Year\" : predictions.index, \"Prediction\" : predictions})\n",
    "df_pred"
   ]
  },
  {
   "cell_type": "code",
   "execution_count": 84,
   "metadata": {},
   "outputs": [
    {
     "data": {
      "image/png": "[encoded data removed]",
      "text/plain": [
       "<Figure size 800x600 with 1 Axes>"
      ]
     },
     "metadata": {},
     "output_type": "display_data"
    }
   ],
   "source": [
    "df_tt_dt = df_train_total.copy()\n",
    "df_tt_dt.Year = pd.to_datetime(df_tt_dt.Year, format=\"%Y\")\n",
    "plot_predictions(df_tt_dt, df_pred)"
   ]
  },
  {
   "cell_type": "markdown",
   "metadata": {},
   "source": [
    "How do we then make a single prediction"
   ]
  },
  {
   "cell_type": "code",
   "execution_count": 85,
   "metadata": {},
   "outputs": [
    {
     "data": {
      "text/plain": [
       "114274.80471752574"
      ]
     },
     "execution_count": 85,
     "metadata": {},
     "output_type": "execute_result"
    }
   ],
   "source": [
    "predictions = fit_ag.predict(start=datetime(2020, 1, 1), \\\n",
    "                             end=datetime(2020, 1, 1), \\\n",
    "                             dynamic=False)\n",
    "predictions.values[0]"
   ]
  },
  {
   "cell_type": "markdown",
   "metadata": {},
   "source": [
    "For comparison, get some scores for the model using a test set"
   ]
  },
  {
   "cell_type": "code",
   "execution_count": 87,
   "metadata": {},
   "outputs": [
    {
     "data": {
      "text/html": [
       "<div>\n",
       "<style scoped>\n",
       "    .dataframe tbody tr th:only-of-type {\n",
       "        vertical-align: middle;\n",
       "    }\n",
       "\n",
       "    .dataframe tbody tr th {\n",
       "        vertical-align: top;\n",
       "    }\n",
       "\n",
       "    .dataframe thead th {\n",
       "        text-align: right;\n",
       "    }\n",
       "</style>\n",
       "<table border=\"1\" class=\"dataframe\">\n",
       "  <thead>\n",
       "    <tr style=\"text-align: right;\">\n",
       "      <th></th>\n",
       "      <th>value</th>\n",
       "    </tr>\n",
       "  </thead>\n",
       "  <tbody>\n",
       "    <tr>\n",
       "      <th>mean_abs_error</th>\n",
       "      <td>[3482.9084449110196]</td>\n",
       "    </tr>\n",
       "    <tr>\n",
       "      <th>median_abs_error</th>\n",
       "      <td>[3478.6876442239445]</td>\n",
       "    </tr>\n",
       "    <tr>\n",
       "      <th>norm_mean_abs_error</th>\n",
       "      <td>[0.04364178782334191]</td>\n",
       "    </tr>\n",
       "    <tr>\n",
       "      <th>norm_median_abs_error</th>\n",
       "      <td>[0.046437178760622144]</td>\n",
       "    </tr>\n",
       "    <tr>\n",
       "      <th>mean_squared_error</th>\n",
       "      <td>[13632369.672535392]</td>\n",
       "    </tr>\n",
       "  </tbody>\n",
       "</table>\n",
       "</div>"
      ],
      "text/plain": [
       "                                        value\n",
       "mean_abs_error           [3482.9084449110196]\n",
       "median_abs_error         [3478.6876442239445]\n",
       "norm_mean_abs_error     [0.04364178782334191]\n",
       "norm_median_abs_error  [0.046437178760622144]\n",
       "mean_squared_error       [13632369.672535392]"
      ]
     },
     "execution_count": 87,
     "metadata": {},
     "output_type": "execute_result"
    }
   ],
   "source": [
    "def print_scores(train, pred):\n",
    "    y_test = train[(train.Year > 2016) & (train.Year < 2021)].Total.values\n",
    "    y_pred = pred[(pred.Year > datetime(2016,1,1)) & (pred.Year < datetime(2021,1,1))].Prediction.values\n",
    "    scores_ag = scores.get_scores(ProblemType.Regression, y_test, y_pred)\n",
    "    return scores.print_scores(scores_ag)\n",
    "print_scores(df_train_total, df_pred)"
   ]
  },
  {
   "cell_type": "markdown",
   "metadata": {},
   "source": [
    "The scores are considerably better for an auto-regression model compared to a linear regression"
   ]
  },
  {
   "cell_type": "markdown",
   "metadata": {},
   "source": [
    "## ARIMA model"
   ]
  },
  {
   "cell_type": "code",
   "execution_count": 88,
   "metadata": {},
   "outputs": [
    {
     "name": "stdout",
     "output_type": "stream",
     "text": [
      "Coefficients:\n",
      "ar.L1     1.000000e+00\n",
      "ma.L1     5.648804e-02\n",
      "sigma2    1.806527e+07\n",
      "dtype: float64\n"
     ]
    },
    {
     "name": "stderr",
     "output_type": "stream",
     "text": [
      "/Users/rossparkin/Projects/ak/mlops-intro/.venv/lib/python3.9/site-packages/statsmodels/tsa/base/tsa_model.py:471: ValueWarning: No frequency information was provided, so inferred frequency AS-JAN will be used.\n",
      "  self._init_dates(dates, freq)\n",
      "/Users/rossparkin/Projects/ak/mlops-intro/.venv/lib/python3.9/site-packages/statsmodels/tsa/base/tsa_model.py:471: ValueWarning: No frequency information was provided, so inferred frequency AS-JAN will be used.\n",
      "  self._init_dates(dates, freq)\n",
      "/Users/rossparkin/Projects/ak/mlops-intro/.venv/lib/python3.9/site-packages/statsmodels/tsa/base/tsa_model.py:471: ValueWarning: No frequency information was provided, so inferred frequency AS-JAN will be used.\n",
      "  self._init_dates(dates, freq)\n",
      "/Users/rossparkin/Projects/ak/mlops-intro/.venv/lib/python3.9/site-packages/statsmodels/tsa/statespace/sarimax.py:966: UserWarning: Non-stationary starting autoregressive parameters found. Using zeros as starting parameters.\n",
      "  warn('Non-stationary starting autoregressive parameters'\n"
     ]
    }
   ],
   "source": [
    "from statsmodels.tsa.arima.model import ARIMA\n",
    "df_dt = get_training_data_with_datetime_index(df_train_total)\n",
    "model_arima = ARIMA(endog = df_dt, \\\n",
    "                   order = (1, 1, 1))\n",
    "fit_arima = model_arima.fit()\n",
    "print(\"Coefficients:\\n%s\" % fit_arima.params)"
   ]
  },
  {
   "cell_type": "code",
   "execution_count": 89,
   "metadata": {},
   "outputs": [
    {
     "data": {
      "image/png": "[encoded data removed]",
      "text/plain": [
       "<Figure size 800x600 with 1 Axes>"
      ]
     },
     "metadata": {},
     "output_type": "display_data"
    }
   ],
   "source": [
    "predictions = fit_arima.predict(start=datetime(2016, 1, 1), \\\n",
    "                             end=datetime(2040, 1, 1), \\\n",
    "                             dynamic=False)\n",
    "df_pred = pd.DataFrame({\"Year\" : predictions.index, \"Prediction\" : predictions})\n",
    "df_tt_dt = df_train_total.copy()\n",
    "df_tt_dt.Year = pd.to_datetime(df_tt_dt.Year, format=\"%Y\")\n",
    "plot_predictions(df_tt_dt, df_pred)"
   ]
  },
  {
   "cell_type": "code",
   "execution_count": 90,
   "metadata": {},
   "outputs": [
    {
     "data": {
      "text/html": [
       "<div>\n",
       "<style scoped>\n",
       "    .dataframe tbody tr th:only-of-type {\n",
       "        vertical-align: middle;\n",
       "    }\n",
       "\n",
       "    .dataframe tbody tr th {\n",
       "        vertical-align: top;\n",
       "    }\n",
       "\n",
       "    .dataframe thead th {\n",
       "        text-align: right;\n",
       "    }\n",
       "</style>\n",
       "<table border=\"1\" class=\"dataframe\">\n",
       "  <thead>\n",
       "    <tr style=\"text-align: right;\">\n",
       "      <th></th>\n",
       "      <th>value</th>\n",
       "    </tr>\n",
       "  </thead>\n",
       "  <tbody>\n",
       "    <tr>\n",
       "      <th>mean_abs_error</th>\n",
       "      <td>[4061.88812567513]</td>\n",
       "    </tr>\n",
       "    <tr>\n",
       "      <th>median_abs_error</th>\n",
       "      <td>[3060.735322959321]</td>\n",
       "    </tr>\n",
       "    <tr>\n",
       "      <th>norm_mean_abs_error</th>\n",
       "      <td>[0.04937769805052125]</td>\n",
       "    </tr>\n",
       "    <tr>\n",
       "      <th>norm_median_abs_error</th>\n",
       "      <td>[0.04536772210079354]</td>\n",
       "    </tr>\n",
       "    <tr>\n",
       "      <th>mean_squared_error</th>\n",
       "      <td>[29121903.3345826]</td>\n",
       "    </tr>\n",
       "  </tbody>\n",
       "</table>\n",
       "</div>"
      ],
      "text/plain": [
       "                                       value\n",
       "mean_abs_error            [4061.88812567513]\n",
       "median_abs_error         [3060.735322959321]\n",
       "norm_mean_abs_error    [0.04937769805052125]\n",
       "norm_median_abs_error  [0.04536772210079354]\n",
       "mean_squared_error        [29121903.3345826]"
      ]
     },
     "execution_count": 90,
     "metadata": {},
     "output_type": "execute_result"
    }
   ],
   "source": [
    "print_scores(df_train_total, df_pred)"
   ]
  },
  {
   "cell_type": "markdown",
   "metadata": {},
   "source": [
    "Surprisingly, the errors are slightly larger for ARIMA compared to a basic AR. That said, ARIMA and AR are much better than a basic linear regression."
   ]
  },
  {
   "cell_type": "code",
   "execution_count": null,
   "metadata": {},
   "outputs": [],
   "source": []
  }
 ],
 "metadata": {
  "kernelspec": {
   "display_name": "Python 3.9.13 ('.venv': poetry)",
   "language": "python",
   "name": "python3"
  },
  "language_info": {
   "codemirror_mode": {
    "name": "ipython",
    "version": 3
   },
   "file_extension": ".py",
   "mimetype": "text/x-python",
   "name": "python",
   "nbconvert_exporter": "python",
   "pygments_lexer": "ipython3",
   "version": "3.9.13"
  },
  "orig_nbformat": 4,
  "vscode": {
   "interpreter": {
    "hash": "6b2e7b7bfdd38aa308878d16834accf315a484c5bbd77d63c256c8b220ecb51d"
   }
  }
 },
 "nbformat": 4,
 "nbformat_minor": 2
}
