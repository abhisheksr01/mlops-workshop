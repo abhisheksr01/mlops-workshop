{
 "cells": [
  {
   "cell_type": "markdown",
   "metadata": {},
   "source": [
    "# Exploratory data anaylsis"
   ]
  },
  {
   "cell_type": "code",
   "execution_count": 1,
   "metadata": {},
   "outputs": [],
   "source": [
    "import pandas as pd\n",
    "\n"
   ]
  },
  {
   "cell_type": "markdown",
   "metadata": {},
   "source": [
    "## Look at data and clean up one year"
   ]
  },
  {
   "cell_type": "code",
   "execution_count": 2,
   "metadata": {},
   "outputs": [
    {
     "data": {
      "text/html": [
       "<div>\n",
       "<style scoped>\n",
       "    .dataframe tbody tr th:only-of-type {\n",
       "        vertical-align: middle;\n",
       "    }\n",
       "\n",
       "    .dataframe tbody tr th {\n",
       "        vertical-align: top;\n",
       "    }\n",
       "\n",
       "    .dataframe thead th {\n",
       "        text-align: right;\n",
       "    }\n",
       "</style>\n",
       "<table border=\"1\" class=\"dataframe\">\n",
       "  <thead>\n",
       "    <tr style=\"text-align: right;\">\n",
       "      <th></th>\n",
       "      <th>State</th>\n",
       "      <th>Biodiesel</th>\n",
       "      <th>CNG</th>\n",
       "      <th>E85</th>\n",
       "      <th>Electrica</th>\n",
       "      <th>Hydrogenb</th>\n",
       "      <th>LNG</th>\n",
       "      <th>Propanec</th>\n",
       "      <th>Totald</th>\n",
       "    </tr>\n",
       "  </thead>\n",
       "  <tbody>\n",
       "    <tr>\n",
       "      <th>0</th>\n",
       "      <td>NaN</td>\n",
       "      <td>NaN</td>\n",
       "      <td>NaN</td>\n",
       "      <td>NaN</td>\n",
       "      <td>(stations / charging outlets</td>\n",
       "      <td>(retail / non-retail / total)</td>\n",
       "      <td>NaN</td>\n",
       "      <td>(primary / secondary / total)</td>\n",
       "      <td>NaN</td>\n",
       "    </tr>\n",
       "    <tr>\n",
       "      <th>1</th>\n",
       "      <td>NaN</td>\n",
       "      <td>NaN</td>\n",
       "      <td>NaN</td>\n",
       "      <td>NaN</td>\n",
       "      <td>Level 1 / Level 2 / DC Fast)</td>\n",
       "      <td>NaN</td>\n",
       "      <td>NaN</td>\n",
       "      <td>NaN</td>\n",
       "      <td>NaN</td>\n",
       "    </tr>\n",
       "    <tr>\n",
       "      <th>2</th>\n",
       "      <td>Alabama</td>\n",
       "      <td>10.0</td>\n",
       "      <td>30.0</td>\n",
       "      <td>29.0</td>\n",
       "      <td>223 / 596</td>\n",
       "      <td>0 / 0 / 0</td>\n",
       "      <td>2.0</td>\n",
       "      <td>24 / 45 / 69</td>\n",
       "      <td>736.0</td>\n",
       "    </tr>\n",
       "    <tr>\n",
       "      <th>3</th>\n",
       "      <td>NaN</td>\n",
       "      <td>NaN</td>\n",
       "      <td>NaN</td>\n",
       "      <td>NaN</td>\n",
       "      <td>56 / 449 / 91</td>\n",
       "      <td>NaN</td>\n",
       "      <td>NaN</td>\n",
       "      <td>NaN</td>\n",
       "      <td>NaN</td>\n",
       "    </tr>\n",
       "    <tr>\n",
       "      <th>4</th>\n",
       "      <td>Alaska</td>\n",
       "      <td>0.0</td>\n",
       "      <td>1.0</td>\n",
       "      <td>0.0</td>\n",
       "      <td>25 / 45</td>\n",
       "      <td>0 / 0 / 0</td>\n",
       "      <td>0.0</td>\n",
       "      <td>1 / 2 / 3</td>\n",
       "      <td>49.0</td>\n",
       "    </tr>\n",
       "    <tr>\n",
       "      <th>...</th>\n",
       "      <td>...</td>\n",
       "      <td>...</td>\n",
       "      <td>...</td>\n",
       "      <td>...</td>\n",
       "      <td>...</td>\n",
       "      <td>...</td>\n",
       "      <td>...</td>\n",
       "      <td>...</td>\n",
       "      <td>...</td>\n",
       "    </tr>\n",
       "    <tr>\n",
       "      <th>107</th>\n",
       "      <td>NaN</td>\n",
       "      <td>NaN</td>\n",
       "      <td>NaN</td>\n",
       "      <td>NaN</td>\n",
       "      <td>NaN</td>\n",
       "      <td>NaN</td>\n",
       "      <td>NaN</td>\n",
       "      <td>NaN</td>\n",
       "      <td>NaN</td>\n",
       "    </tr>\n",
       "    <tr>\n",
       "      <th>108</th>\n",
       "      <td>(a) Includes legacy chargers but does not incl...</td>\n",
       "      <td>NaN</td>\n",
       "      <td>NaN</td>\n",
       "      <td>NaN</td>\n",
       "      <td>NaN</td>\n",
       "      <td>NaN</td>\n",
       "      <td>NaN</td>\n",
       "      <td>NaN</td>\n",
       "      <td>NaN</td>\n",
       "    </tr>\n",
       "    <tr>\n",
       "      <th>109</th>\n",
       "      <td>(b) Primary propane stations offer vehicle-spe...</td>\n",
       "      <td>NaN</td>\n",
       "      <td>NaN</td>\n",
       "      <td>NaN</td>\n",
       "      <td>NaN</td>\n",
       "      <td>NaN</td>\n",
       "      <td>NaN</td>\n",
       "      <td>NaN</td>\n",
       "      <td>NaN</td>\n",
       "    </tr>\n",
       "    <tr>\n",
       "      <th>110</th>\n",
       "      <td>(c) Retail hydrogen stations accept payment at...</td>\n",
       "      <td>NaN</td>\n",
       "      <td>NaN</td>\n",
       "      <td>NaN</td>\n",
       "      <td>NaN</td>\n",
       "      <td>NaN</td>\n",
       "      <td>NaN</td>\n",
       "      <td>NaN</td>\n",
       "      <td>NaN</td>\n",
       "    </tr>\n",
       "    <tr>\n",
       "      <th>111</th>\n",
       "      <td>(d) Totals are the number of stations for all ...</td>\n",
       "      <td>NaN</td>\n",
       "      <td>NaN</td>\n",
       "      <td>NaN</td>\n",
       "      <td>NaN</td>\n",
       "      <td>NaN</td>\n",
       "      <td>NaN</td>\n",
       "      <td>NaN</td>\n",
       "      <td>NaN</td>\n",
       "    </tr>\n",
       "  </tbody>\n",
       "</table>\n",
       "<p>112 rows × 9 columns</p>\n",
       "</div>"
      ],
      "text/plain": [
       "                                                 State  Biodiesel   CNG   E85  \\\n",
       "0                                                  NaN        NaN   NaN   NaN   \n",
       "1                                                  NaN        NaN   NaN   NaN   \n",
       "2                                              Alabama       10.0  30.0  29.0   \n",
       "3                                                  NaN        NaN   NaN   NaN   \n",
       "4                                               Alaska        0.0   1.0   0.0   \n",
       "..                                                 ...        ...   ...   ...   \n",
       "107                                                NaN        NaN   NaN   NaN   \n",
       "108  (a) Includes legacy chargers but does not incl...        NaN   NaN   NaN   \n",
       "109  (b) Primary propane stations offer vehicle-spe...        NaN   NaN   NaN   \n",
       "110  (c) Retail hydrogen stations accept payment at...        NaN   NaN   NaN   \n",
       "111  (d) Totals are the number of stations for all ...        NaN   NaN   NaN   \n",
       "\n",
       "                        Electrica                      Hydrogenb  LNG  \\\n",
       "0    (stations / charging outlets  (retail / non-retail / total)  NaN   \n",
       "1    Level 1 / Level 2 / DC Fast)                            NaN  NaN   \n",
       "2                       223 / 596                      0 / 0 / 0  2.0   \n",
       "3                   56 / 449 / 91                            NaN  NaN   \n",
       "4                         25 / 45                      0 / 0 / 0  0.0   \n",
       "..                            ...                            ...  ...   \n",
       "107                           NaN                            NaN  NaN   \n",
       "108                           NaN                            NaN  NaN   \n",
       "109                           NaN                            NaN  NaN   \n",
       "110                           NaN                            NaN  NaN   \n",
       "111                           NaN                            NaN  NaN   \n",
       "\n",
       "                          Propanec  Totald  \n",
       "0    (primary / secondary / total)     NaN  \n",
       "1                              NaN     NaN  \n",
       "2                     24 / 45 / 69   736.0  \n",
       "3                              NaN     NaN  \n",
       "4                        1 / 2 / 3    49.0  \n",
       "..                             ...     ...  \n",
       "107                            NaN     NaN  \n",
       "108                            NaN     NaN  \n",
       "109                            NaN     NaN  \n",
       "110                            NaN     NaN  \n",
       "111                            NaN     NaN  \n",
       "\n",
       "[112 rows x 9 columns]"
      ]
     },
     "execution_count": 2,
     "metadata": {},
     "output_type": "execute_result"
    }
   ],
   "source": [
    "df = pd.read_excel(\"../notebooks/Historical Station Counts by State 2007-2021.xlsx\", sheet_name='2020', skiprows=1)\n",
    "df"
   ]
  },
  {
   "cell_type": "code",
   "execution_count": 2,
   "metadata": {},
   "outputs": [],
   "source": [
    "def clean_data(df: pd.DataFrame) -> pd.DataFrame:\n",
    "    df_cleaned = df.dropna(how=\"all\")\n",
    "    df_cleaned = df_cleaned.rename(columns={\"Totald\" : \"Total\"})\n",
    "    df_cleaned = df_cleaned[[\"State\", \"Total\"]]\n",
    "    df_cleaned = df_cleaned.dropna()\n",
    "    return df_cleaned\n",
    "\n",
    "df_total = pd.DataFrame()\n",
    "for n in range(2007, 2022, 1):\n",
    "    df = pd.read_excel(\"../data/Historical Station Counts by State 2007-2021.xlsx\", sheet_name=str(n), skiprows=1)\n",
    "    df_cleaned = clean_data(df)\n",
    "    df_cleaned[\"Year\"] = n\n",
    "    df_total = pd.concat([df_total, df_cleaned])"
   ]
  },
  {
   "cell_type": "markdown",
   "metadata": {},
   "source": [
    "Get some general info about the data"
   ]
  },
  {
   "cell_type": "code",
   "execution_count": 3,
   "metadata": {},
   "outputs": [
    {
     "name": "stdout",
     "output_type": "stream",
     "text": [
      "<class 'pandas.core.frame.DataFrame'>\n",
      "Int64Index: 780 entries, 2 to 104\n",
      "Data columns (total 3 columns):\n",
      " #   Column  Non-Null Count  Dtype  \n",
      "---  ------  --------------  -----  \n",
      " 0   State   780 non-null    object \n",
      " 1   Total   780 non-null    float64\n",
      " 2   Year    780 non-null    int64  \n",
      "dtypes: float64(1), int64(1), object(1)\n",
      "memory usage: 24.4+ KB\n"
     ]
    }
   ],
   "source": [
    "df_total.info(verbose=True)"
   ]
  },
  {
   "cell_type": "code",
   "execution_count": 5,
   "metadata": {},
   "outputs": [
    {
     "data": {
      "text/html": [
       "<div>\n",
       "<style scoped>\n",
       "    .dataframe tbody tr th:only-of-type {\n",
       "        vertical-align: middle;\n",
       "    }\n",
       "\n",
       "    .dataframe tbody tr th {\n",
       "        vertical-align: top;\n",
       "    }\n",
       "\n",
       "    .dataframe thead th {\n",
       "        text-align: right;\n",
       "    }\n",
       "</style>\n",
       "<table border=\"1\" class=\"dataframe\">\n",
       "  <thead>\n",
       "    <tr style=\"text-align: right;\">\n",
       "      <th></th>\n",
       "      <th>State</th>\n",
       "      <th>Total</th>\n",
       "      <th>Year</th>\n",
       "    </tr>\n",
       "  </thead>\n",
       "  <tbody>\n",
       "    <tr>\n",
       "      <th>count</th>\n",
       "      <td>780</td>\n",
       "      <td>780.000000</td>\n",
       "      <td>780.000000</td>\n",
       "    </tr>\n",
       "    <tr>\n",
       "      <th>unique</th>\n",
       "      <td>52</td>\n",
       "      <td>NaN</td>\n",
       "      <td>NaN</td>\n",
       "    </tr>\n",
       "    <tr>\n",
       "      <th>top</th>\n",
       "      <td>Alabama</td>\n",
       "      <td>NaN</td>\n",
       "      <td>NaN</td>\n",
       "    </tr>\n",
       "    <tr>\n",
       "      <th>freq</th>\n",
       "      <td>15</td>\n",
       "      <td>NaN</td>\n",
       "      <td>NaN</td>\n",
       "    </tr>\n",
       "    <tr>\n",
       "      <th>mean</th>\n",
       "      <td>NaN</td>\n",
       "      <td>1802.579487</td>\n",
       "      <td>2014.000000</td>\n",
       "    </tr>\n",
       "    <tr>\n",
       "      <th>std</th>\n",
       "      <td>NaN</td>\n",
       "      <td>8917.620078</td>\n",
       "      <td>4.323266</td>\n",
       "    </tr>\n",
       "    <tr>\n",
       "      <th>min</th>\n",
       "      <td>NaN</td>\n",
       "      <td>6.000000</td>\n",
       "      <td>2007.000000</td>\n",
       "    </tr>\n",
       "    <tr>\n",
       "      <th>25%</th>\n",
       "      <td>NaN</td>\n",
       "      <td>112.000000</td>\n",
       "      <td>2010.000000</td>\n",
       "    </tr>\n",
       "    <tr>\n",
       "      <th>50%</th>\n",
       "      <td>NaN</td>\n",
       "      <td>294.500000</td>\n",
       "      <td>2014.000000</td>\n",
       "    </tr>\n",
       "    <tr>\n",
       "      <th>75%</th>\n",
       "      <td>NaN</td>\n",
       "      <td>969.250000</td>\n",
       "      <td>2018.000000</td>\n",
       "    </tr>\n",
       "    <tr>\n",
       "      <th>max</th>\n",
       "      <td>NaN</td>\n",
       "      <td>138020.000000</td>\n",
       "      <td>2021.000000</td>\n",
       "    </tr>\n",
       "  </tbody>\n",
       "</table>\n",
       "</div>"
      ],
      "text/plain": [
       "          State          Total         Year\n",
       "count       780     780.000000   780.000000\n",
       "unique       52            NaN          NaN\n",
       "top     Alabama            NaN          NaN\n",
       "freq         15            NaN          NaN\n",
       "mean        NaN    1802.579487  2014.000000\n",
       "std         NaN    8917.620078     4.323266\n",
       "min         NaN       6.000000  2007.000000\n",
       "25%         NaN     112.000000  2010.000000\n",
       "50%         NaN     294.500000  2014.000000\n",
       "75%         NaN     969.250000  2018.000000\n",
       "max         NaN  138020.000000  2021.000000"
      ]
     },
     "execution_count": 5,
     "metadata": {},
     "output_type": "execute_result"
    }
   ],
   "source": [
    "df_total.describe(include='all')"
   ]
  },
  {
   "cell_type": "markdown",
   "metadata": {},
   "source": [
    "Check how many missing values we have"
   ]
  },
  {
   "cell_type": "code",
   "execution_count": 6,
   "metadata": {},
   "outputs": [
    {
     "data": {
      "text/plain": [
       "State    0.0\n",
       "Total    0.0\n",
       "Year     0.0\n",
       "dtype: float64"
      ]
     },
     "execution_count": 6,
     "metadata": {},
     "output_type": "execute_result"
    }
   ],
   "source": [
    "df_total.isna().mean()"
   ]
  },
  {
   "cell_type": "markdown",
   "metadata": {},
   "source": [
    "## Training a regression model on all data"
   ]
  },
  {
   "cell_type": "code",
   "execution_count": 4,
   "metadata": {},
   "outputs": [],
   "source": [
    "from mlwrap.enums import AlgorithmType, DataType, FeatureType\n",
    "from mlwrap.config import InputData, MLConfig, Feature, TrainingResults\n",
    "from  mlwrap import runners\n",
    "\n",
    "def train(df, features) -> TrainingResults:\n",
    "    config = MLConfig(\n",
    "                algorithm_type=AlgorithmType.SklearnLinearModel,\n",
    "                features=features,\n",
    "                model_feature_id=\"Total\",\n",
    "                input_data=InputData(data_type=DataType.DataFrame, data_frame=df),\n",
    "            )\n",
    "    return runners.train(config)"
   ]
  },
  {
   "cell_type": "code",
   "execution_count": 5,
   "metadata": {},
   "outputs": [
    {
     "data": {
      "text/plain": [
       "{<ScoreType.iterations: 'iterations'>: 1,\n",
       " <ScoreType.total_row_count: 'total_row_count'>: 780,\n",
       " <ScoreType.active_feature_count: 'active_feature_count'>: 3,\n",
       " <ScoreType.inactive_feature_count: 'inactive_feature_count'>: 0,\n",
       " <ScoreType.mean_absolute_error: 'mean_absolute_error'>: 2272.8228,\n",
       " <ScoreType.median_absolute_error: 'median_absolute_error'>: 601.902,\n",
       " <ScoreType.mean_squared_error: 'mean_squared_error'>: 129517910.0}"
      ]
     },
     "execution_count": 5,
     "metadata": {},
     "output_type": "execute_result"
    }
   ],
   "source": [
    "features = { \n",
    "        \"Year\" : Feature(id = \"Year\", feature_type=FeatureType.Continuous),\n",
    "        \"State\" : Feature(id = \"State\", feature_type=FeatureType.Categorical),\n",
    "        \"Total\" : Feature(id = \"Total\", feature_type=FeatureType.Continuous)\n",
    "    }\n",
    "\n",
    "df_train = df_total\n",
    "results = train(df_train, features)\n",
    "results.scores"
   ]
  },
  {
   "cell_type": "markdown",
   "metadata": {},
   "source": [
    "Scores are better for states with lower counts if we train a model per state"
   ]
  },
  {
   "cell_type": "code",
   "execution_count": 6,
   "metadata": {},
   "outputs": [
    {
     "data": {
      "text/plain": [
       "<AxesSubplot:xlabel='Year'>"
      ]
     },
     "execution_count": 6,
     "metadata": {},
     "output_type": "execute_result"
    },
    {
     "data": {
      "image/png": "[encoded data removed]",
      "text/plain": [
       "<Figure size 640x480 with 1 Axes>"
      ]
     },
     "metadata": {},
     "output_type": "display_data"
    }
   ],
   "source": [
    "df_train_one_state = df_total.loc[df['State'] == 'Alabama']\n",
    "df_train_one_state.plot(x=\"Year\",y=\"Total\")"
   ]
  },
  {
   "cell_type": "code",
   "execution_count": 7,
   "metadata": {},
   "outputs": [
    {
     "name": "stderr",
     "output_type": "stream",
     "text": [
      "/Users/rossparkin/Projects/ak/mlops-intro/.venv/lib/python3.9/site-packages/pandas/core/generic.py:7240: SettingWithCopyWarning: \n",
      "A value is trying to be set on a copy of a slice from a DataFrame\n",
      "\n",
      "See the caveats in the documentation: https://pandas.pydata.org/pandas-docs/stable/user_guide/indexing.html#returning-a-view-versus-a-copy\n",
      "  return self._update_inplace(result)\n",
      "/Users/rossparkin/Projects/ak/mlops-intro/.venv/lib/python3.9/site-packages/pandas/core/frame.py:4901: SettingWithCopyWarning: \n",
      "A value is trying to be set on a copy of a slice from a DataFrame\n",
      "\n",
      "See the caveats in the documentation: https://pandas.pydata.org/pandas-docs/stable/user_guide/indexing.html#returning-a-view-versus-a-copy\n",
      "  return super().drop(\n"
     ]
    },
    {
     "data": {
      "text/plain": [
       "{<ScoreType.iterations: 'iterations'>: 1,\n",
       " <ScoreType.total_row_count: 'total_row_count'>: 15,\n",
       " <ScoreType.active_feature_count: 'active_feature_count'>: 2,\n",
       " <ScoreType.inactive_feature_count: 'inactive_feature_count'>: 1,\n",
       " <ScoreType.mean_absolute_error: 'mean_absolute_error'>: 197.59099,\n",
       " <ScoreType.median_absolute_error: 'median_absolute_error'>: 181.61633,\n",
       " <ScoreType.mean_squared_error: 'mean_squared_error'>: 42969.848}"
      ]
     },
     "execution_count": 7,
     "metadata": {},
     "output_type": "execute_result"
    }
   ],
   "source": [
    "results_one_state = train(df_train_one_state, features)\n",
    "results_one_state.scores"
   ]
  },
  {
   "cell_type": "markdown",
   "metadata": {},
   "source": [
    "## Add windows features"
   ]
  },
  {
   "cell_type": "code",
   "execution_count": 8,
   "metadata": {},
   "outputs": [
    {
     "name": "stderr",
     "output_type": "stream",
     "text": [
      "/Users/rossparkin/Projects/ak/mlops-intro/.venv/lib/python3.9/site-packages/pandas/core/frame.py:3607: SettingWithCopyWarning: \n",
      "A value is trying to be set on a copy of a slice from a DataFrame.\n",
      "Try using .loc[row_indexer,col_indexer] = value instead\n",
      "\n",
      "See the caveats in the documentation: https://pandas.pydata.org/pandas-docs/stable/user_guide/indexing.html#returning-a-view-versus-a-copy\n",
      "  self._set_item(key, value)\n"
     ]
    }
   ],
   "source": [
    "df_train_window = df_total.loc[df['State'] == 'California']\n",
    "# df_train = df_train.loc[df_train[\"Total\"] > 20]\n",
    "df_train_window[\"TotalLastYear\"] = df_train_window[\"Total\"].shift(-1)\n",
    "df_train_window[\"TotalNextYear\"] = df_train_window[\"Total\"].shift(1)\n",
    "df_train_window = df_train_window.dropna()\n",
    "# df_train.plot(x=\"Year\",y=\"Total\")\n",
    "# df_train_window"
   ]
  },
  {
   "cell_type": "code",
   "execution_count": 9,
   "metadata": {},
   "outputs": [
    {
     "data": {
      "text/plain": [
       "{<ScoreType.iterations: 'iterations'>: 1,\n",
       " <ScoreType.total_row_count: 'total_row_count'>: 13,\n",
       " <ScoreType.active_feature_count: 'active_feature_count'>: 4,\n",
       " <ScoreType.inactive_feature_count: 'inactive_feature_count'>: 1,\n",
       " <ScoreType.mean_absolute_error: 'mean_absolute_error'>: 274.66,\n",
       " <ScoreType.median_absolute_error: 'median_absolute_error'>: 153.24707,\n",
       " <ScoreType.mean_squared_error: 'mean_squared_error'>: 107720.37}"
      ]
     },
     "execution_count": 9,
     "metadata": {},
     "output_type": "execute_result"
    }
   ],
   "source": [
    "features_with_window = { \n",
    "        \"Year\" : Feature(id = \"Year\", feature_type=FeatureType.Continuous),\n",
    "        \"State\" : Feature(id = \"State\", feature_type=FeatureType.Categorical),\n",
    "        \"Total\" : Feature(id = \"Total\", feature_type=FeatureType.Continuous),\n",
    "        \"TotalLastYear\" : Feature(id = \"TotalLastYear\", feature_type=FeatureType.Continuous, active=True),\n",
    "        \"TotalNextYear\" : Feature(id = \"TotalNextYear\", feature_type=FeatureType.Continuous, active=True)\n",
    "    }\n",
    "results_window = train(df_train_window, features_with_window)\n",
    "results_window.scores"
   ]
  },
  {
   "cell_type": "markdown",
   "metadata": {},
   "source": [
    "This works better but it introduces complexities when we think about how it would be implemented because it means that when making predicitions we need to know/guess TotalLastYear and TotalNextYear"
   ]
  },
  {
   "cell_type": "markdown",
   "metadata": {},
   "source": [
    "## Make a prediction"
   ]
  },
  {
   "cell_type": "code",
   "execution_count": 10,
   "metadata": {},
   "outputs": [
    {
     "data": {
      "text/plain": [
       "[1144.994384765625]"
      ]
     },
     "execution_count": 10,
     "metadata": {},
     "output_type": "execute_result"
    }
   ],
   "source": [
    "def infer(df, features, training_results: TrainingResults):\n",
    "    config = MLConfig(\n",
    "                algorithm_type=AlgorithmType.SklearnLinearModel,\n",
    "                features=features,\n",
    "                model_feature_id=\"Total\",\n",
    "                input_data=InputData(data_type=DataType.DataFrame, data_frame=df),\n",
    "            )\n",
    "    config.input_data = InputData(data_type=DataType.DataFrame, data_frame=df)\n",
    "    config.model_bytes = training_results.model_bytes\n",
    "    config.encoder_bytes = training_results.encoder_bytes\n",
    "    config.background_data_bytes = training_results.background_data_bytes\n",
    "    return runners.infer(config)\n",
    "\n",
    "df_predict = pd.DataFrame({\"Year\" : 2030}, index=[0])\n",
    "inference_output = infer(df_predict, features, results_one_state)\n",
    "inference_output.inference_results[0].values"
   ]
  },
  {
   "cell_type": "code",
   "execution_count": null,
   "metadata": {},
   "outputs": [],
   "source": []
  }
 ],
 "metadata": {
  "kernelspec": {
   "display_name": "Python 3.9.13 ('.venv': poetry)",
   "language": "python",
   "name": "python3"
  },
  "language_info": {
   "codemirror_mode": {
    "name": "ipython",
    "version": 3
   },
   "file_extension": ".py",
   "mimetype": "text/x-python",
   "name": "python",
   "nbconvert_exporter": "python",
   "pygments_lexer": "ipython3",
   "version": "3.9.13"
  },
  "orig_nbformat": 4,
  "vscode": {
   "interpreter": {
    "hash": "6b2e7b7bfdd38aa308878d16834accf315a484c5bbd77d63c256c8b220ecb51d"
   }
  }
 },
 "nbformat": 4,
 "nbformat_minor": 2
}
