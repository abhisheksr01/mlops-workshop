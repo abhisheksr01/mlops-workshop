{
 "cells": [
  {
   "cell_type": "markdown",
   "metadata": {},
   "source": [
    "# Exploratory data anaylsis"
   ]
  },
  {
   "cell_type": "code",
   "execution_count": 1,
   "metadata": {},
   "outputs": [],
   "source": [
    "import pandas as pd\n",
    "\n"
   ]
  },
  {
   "cell_type": "markdown",
   "metadata": {},
   "source": [
    "## Look at data and clean up one year"
   ]
  },
  {
   "cell_type": "code",
   "execution_count": 2,
   "metadata": {},
   "outputs": [
    {
     "data": {
      "text/html": [
       "<div>\n",
       "<style scoped>\n",
       "    .dataframe tbody tr th:only-of-type {\n",
       "        vertical-align: middle;\n",
       "    }\n",
       "\n",
       "    .dataframe tbody tr th {\n",
       "        vertical-align: top;\n",
       "    }\n",
       "\n",
       "    .dataframe thead th {\n",
       "        text-align: right;\n",
       "    }\n",
       "</style>\n",
       "<table border=\"1\" class=\"dataframe\">\n",
       "  <thead>\n",
       "    <tr style=\"text-align: right;\">\n",
       "      <th></th>\n",
       "      <th>State</th>\n",
       "      <th>Biodiesel</th>\n",
       "      <th>CNG</th>\n",
       "      <th>E85</th>\n",
       "      <th>Electrica</th>\n",
       "      <th>Hydrogenb</th>\n",
       "      <th>LNG</th>\n",
       "      <th>Propanec</th>\n",
       "      <th>Totald</th>\n",
       "    </tr>\n",
       "  </thead>\n",
       "  <tbody>\n",
       "    <tr>\n",
       "      <th>0</th>\n",
       "      <td>NaN</td>\n",
       "      <td>NaN</td>\n",
       "      <td>NaN</td>\n",
       "      <td>NaN</td>\n",
       "      <td>(stations / charging outlets</td>\n",
       "      <td>(retail / non-retail / total)</td>\n",
       "      <td>NaN</td>\n",
       "      <td>(primary / secondary / total)</td>\n",
       "      <td>NaN</td>\n",
       "    </tr>\n",
       "    <tr>\n",
       "      <th>1</th>\n",
       "      <td>NaN</td>\n",
       "      <td>NaN</td>\n",
       "      <td>NaN</td>\n",
       "      <td>NaN</td>\n",
       "      <td>Level 1 / Level 2 / DC Fast)</td>\n",
       "      <td>NaN</td>\n",
       "      <td>NaN</td>\n",
       "      <td>NaN</td>\n",
       "      <td>NaN</td>\n",
       "    </tr>\n",
       "    <tr>\n",
       "      <th>2</th>\n",
       "      <td>Alabama</td>\n",
       "      <td>10.0</td>\n",
       "      <td>30.0</td>\n",
       "      <td>29.0</td>\n",
       "      <td>223 / 596</td>\n",
       "      <td>0 / 0 / 0</td>\n",
       "      <td>2.0</td>\n",
       "      <td>24 / 45 / 69</td>\n",
       "      <td>736.0</td>\n",
       "    </tr>\n",
       "    <tr>\n",
       "      <th>3</th>\n",
       "      <td>NaN</td>\n",
       "      <td>NaN</td>\n",
       "      <td>NaN</td>\n",
       "      <td>NaN</td>\n",
       "      <td>56 / 449 / 91</td>\n",
       "      <td>NaN</td>\n",
       "      <td>NaN</td>\n",
       "      <td>NaN</td>\n",
       "      <td>NaN</td>\n",
       "    </tr>\n",
       "    <tr>\n",
       "      <th>4</th>\n",
       "      <td>Alaska</td>\n",
       "      <td>0.0</td>\n",
       "      <td>1.0</td>\n",
       "      <td>0.0</td>\n",
       "      <td>25 / 45</td>\n",
       "      <td>0 / 0 / 0</td>\n",
       "      <td>0.0</td>\n",
       "      <td>1 / 2 / 3</td>\n",
       "      <td>49.0</td>\n",
       "    </tr>\n",
       "    <tr>\n",
       "      <th>...</th>\n",
       "      <td>...</td>\n",
       "      <td>...</td>\n",
       "      <td>...</td>\n",
       "      <td>...</td>\n",
       "      <td>...</td>\n",
       "      <td>...</td>\n",
       "      <td>...</td>\n",
       "      <td>...</td>\n",
       "      <td>...</td>\n",
       "    </tr>\n",
       "    <tr>\n",
       "      <th>107</th>\n",
       "      <td>NaN</td>\n",
       "      <td>NaN</td>\n",
       "      <td>NaN</td>\n",
       "      <td>NaN</td>\n",
       "      <td>NaN</td>\n",
       "      <td>NaN</td>\n",
       "      <td>NaN</td>\n",
       "      <td>NaN</td>\n",
       "      <td>NaN</td>\n",
       "    </tr>\n",
       "    <tr>\n",
       "      <th>108</th>\n",
       "      <td>(a) Includes legacy chargers but does not incl...</td>\n",
       "      <td>NaN</td>\n",
       "      <td>NaN</td>\n",
       "      <td>NaN</td>\n",
       "      <td>NaN</td>\n",
       "      <td>NaN</td>\n",
       "      <td>NaN</td>\n",
       "      <td>NaN</td>\n",
       "      <td>NaN</td>\n",
       "    </tr>\n",
       "    <tr>\n",
       "      <th>109</th>\n",
       "      <td>(b) Primary propane stations offer vehicle-spe...</td>\n",
       "      <td>NaN</td>\n",
       "      <td>NaN</td>\n",
       "      <td>NaN</td>\n",
       "      <td>NaN</td>\n",
       "      <td>NaN</td>\n",
       "      <td>NaN</td>\n",
       "      <td>NaN</td>\n",
       "      <td>NaN</td>\n",
       "    </tr>\n",
       "    <tr>\n",
       "      <th>110</th>\n",
       "      <td>(c) Retail hydrogen stations accept payment at...</td>\n",
       "      <td>NaN</td>\n",
       "      <td>NaN</td>\n",
       "      <td>NaN</td>\n",
       "      <td>NaN</td>\n",
       "      <td>NaN</td>\n",
       "      <td>NaN</td>\n",
       "      <td>NaN</td>\n",
       "      <td>NaN</td>\n",
       "    </tr>\n",
       "    <tr>\n",
       "      <th>111</th>\n",
       "      <td>(d) Totals are the number of stations for all ...</td>\n",
       "      <td>NaN</td>\n",
       "      <td>NaN</td>\n",
       "      <td>NaN</td>\n",
       "      <td>NaN</td>\n",
       "      <td>NaN</td>\n",
       "      <td>NaN</td>\n",
       "      <td>NaN</td>\n",
       "      <td>NaN</td>\n",
       "    </tr>\n",
       "  </tbody>\n",
       "</table>\n",
       "<p>112 rows × 9 columns</p>\n",
       "</div>"
      ],
      "text/plain": [
       "                                                 State  Biodiesel   CNG   E85  \\\n",
       "0                                                  NaN        NaN   NaN   NaN   \n",
       "1                                                  NaN        NaN   NaN   NaN   \n",
       "2                                              Alabama       10.0  30.0  29.0   \n",
       "3                                                  NaN        NaN   NaN   NaN   \n",
       "4                                               Alaska        0.0   1.0   0.0   \n",
       "..                                                 ...        ...   ...   ...   \n",
       "107                                                NaN        NaN   NaN   NaN   \n",
       "108  (a) Includes legacy chargers but does not incl...        NaN   NaN   NaN   \n",
       "109  (b) Primary propane stations offer vehicle-spe...        NaN   NaN   NaN   \n",
       "110  (c) Retail hydrogen stations accept payment at...        NaN   NaN   NaN   \n",
       "111  (d) Totals are the number of stations for all ...        NaN   NaN   NaN   \n",
       "\n",
       "                        Electrica                      Hydrogenb  LNG  \\\n",
       "0    (stations / charging outlets  (retail / non-retail / total)  NaN   \n",
       "1    Level 1 / Level 2 / DC Fast)                            NaN  NaN   \n",
       "2                       223 / 596                      0 / 0 / 0  2.0   \n",
       "3                   56 / 449 / 91                            NaN  NaN   \n",
       "4                         25 / 45                      0 / 0 / 0  0.0   \n",
       "..                            ...                            ...  ...   \n",
       "107                           NaN                            NaN  NaN   \n",
       "108                           NaN                            NaN  NaN   \n",
       "109                           NaN                            NaN  NaN   \n",
       "110                           NaN                            NaN  NaN   \n",
       "111                           NaN                            NaN  NaN   \n",
       "\n",
       "                          Propanec  Totald  \n",
       "0    (primary / secondary / total)     NaN  \n",
       "1                              NaN     NaN  \n",
       "2                     24 / 45 / 69   736.0  \n",
       "3                              NaN     NaN  \n",
       "4                        1 / 2 / 3    49.0  \n",
       "..                             ...     ...  \n",
       "107                            NaN     NaN  \n",
       "108                            NaN     NaN  \n",
       "109                            NaN     NaN  \n",
       "110                            NaN     NaN  \n",
       "111                            NaN     NaN  \n",
       "\n",
       "[112 rows x 9 columns]"
      ]
     },
     "execution_count": 2,
     "metadata": {},
     "output_type": "execute_result"
    }
   ],
   "source": [
    "df = pd.read_excel(\"../data/Historical Station Counts by State 2007-2021.xlsx\", sheet_name='2020', skiprows=1)\n",
    "df"
   ]
  },
  {
   "cell_type": "code",
   "execution_count": 3,
   "metadata": {},
   "outputs": [
    {
     "data": {
      "text/html": [
       "<div>\n",
       "<style scoped>\n",
       "    .dataframe tbody tr th:only-of-type {\n",
       "        vertical-align: middle;\n",
       "    }\n",
       "\n",
       "    .dataframe tbody tr th {\n",
       "        vertical-align: top;\n",
       "    }\n",
       "\n",
       "    .dataframe thead th {\n",
       "        text-align: right;\n",
       "    }\n",
       "</style>\n",
       "<table border=\"1\" class=\"dataframe\">\n",
       "  <thead>\n",
       "    <tr style=\"text-align: right;\">\n",
       "      <th></th>\n",
       "      <th>State</th>\n",
       "      <th>Total</th>\n",
       "      <th>Year</th>\n",
       "    </tr>\n",
       "  </thead>\n",
       "  <tbody>\n",
       "    <tr>\n",
       "      <th>2</th>\n",
       "      <td>Alabama</td>\n",
       "      <td>71.0</td>\n",
       "      <td>2007</td>\n",
       "    </tr>\n",
       "    <tr>\n",
       "      <th>4</th>\n",
       "      <td>Alaska</td>\n",
       "      <td>11.0</td>\n",
       "      <td>2007</td>\n",
       "    </tr>\n",
       "    <tr>\n",
       "      <th>6</th>\n",
       "      <td>Arizona</td>\n",
       "      <td>134.0</td>\n",
       "      <td>2007</td>\n",
       "    </tr>\n",
       "    <tr>\n",
       "      <th>8</th>\n",
       "      <td>Arkansas</td>\n",
       "      <td>51.0</td>\n",
       "      <td>2007</td>\n",
       "    </tr>\n",
       "    <tr>\n",
       "      <th>10</th>\n",
       "      <td>California</td>\n",
       "      <td>856.0</td>\n",
       "      <td>2007</td>\n",
       "    </tr>\n",
       "    <tr>\n",
       "      <th>...</th>\n",
       "      <td>...</td>\n",
       "      <td>...</td>\n",
       "      <td>...</td>\n",
       "    </tr>\n",
       "    <tr>\n",
       "      <th>96</th>\n",
       "      <td>Washington</td>\n",
       "      <td>4471.0</td>\n",
       "      <td>2021</td>\n",
       "    </tr>\n",
       "    <tr>\n",
       "      <th>98</th>\n",
       "      <td>West Virginia</td>\n",
       "      <td>365.0</td>\n",
       "      <td>2021</td>\n",
       "    </tr>\n",
       "    <tr>\n",
       "      <th>100</th>\n",
       "      <td>Wisconsin</td>\n",
       "      <td>1310.0</td>\n",
       "      <td>2021</td>\n",
       "    </tr>\n",
       "    <tr>\n",
       "      <th>102</th>\n",
       "      <td>Wyoming</td>\n",
       "      <td>222.0</td>\n",
       "      <td>2021</td>\n",
       "    </tr>\n",
       "    <tr>\n",
       "      <th>104</th>\n",
       "      <td>Total</td>\n",
       "      <td>138020.0</td>\n",
       "      <td>2021</td>\n",
       "    </tr>\n",
       "  </tbody>\n",
       "</table>\n",
       "<p>780 rows × 3 columns</p>\n",
       "</div>"
      ],
      "text/plain": [
       "             State     Total  Year\n",
       "2          Alabama      71.0  2007\n",
       "4           Alaska      11.0  2007\n",
       "6          Arizona     134.0  2007\n",
       "8         Arkansas      51.0  2007\n",
       "10      California     856.0  2007\n",
       "..             ...       ...   ...\n",
       "96      Washington    4471.0  2021\n",
       "98   West Virginia     365.0  2021\n",
       "100      Wisconsin    1310.0  2021\n",
       "102        Wyoming     222.0  2021\n",
       "104          Total  138020.0  2021\n",
       "\n",
       "[780 rows x 3 columns]"
      ]
     },
     "execution_count": 3,
     "metadata": {},
     "output_type": "execute_result"
    }
   ],
   "source": [
    "def clean_data(df: pd.DataFrame) -> pd.DataFrame:\n",
    "    df_cleaned = df.dropna(how=\"all\")\n",
    "    df_cleaned = df_cleaned.rename(columns={\"Totald\" : \"Total\"})\n",
    "    df_cleaned = df_cleaned[[\"State\", \"Total\"]]\n",
    "    df_cleaned = df_cleaned.dropna()\n",
    "    return df_cleaned\n",
    "\n",
    "df_total = pd.DataFrame()\n",
    "for n in range(2007, 2022, 1):\n",
    "    df = pd.read_excel(\"../data/Historical Station Counts by State 2007-2021.xlsx\", sheet_name=str(n), skiprows=1)\n",
    "    df_cleaned = clean_data(df)\n",
    "    df_cleaned[\"Year\"] = n\n",
    "    df_total = pd.concat([df_total, df_cleaned])\n",
    "    \n",
    "df_total\n"
   ]
  },
  {
   "cell_type": "markdown",
   "metadata": {},
   "source": [
    "## Training a regression model on all data"
   ]
  },
  {
   "cell_type": "code",
   "execution_count": 4,
   "metadata": {},
   "outputs": [],
   "source": [
    "from mlwrap.enums import AlgorithmType, DataType, FeatureType\n",
    "from mlwrap.config import InputData, MLConfig, Feature, TrainingResults\n",
    "from  mlwrap import runners\n",
    "\n",
    "def train(df, features) -> TrainingResults:\n",
    "    config = MLConfig(\n",
    "                algorithm_type=AlgorithmType.SklearnLinearModel,\n",
    "                features=features,\n",
    "                model_feature_id=\"Total\",\n",
    "                input_data=InputData(data_type=DataType.DataFrame, data_frame=df),\n",
    "            )\n",
    "    return runners.train(config)"
   ]
  },
  {
   "cell_type": "code",
   "execution_count": 5,
   "metadata": {},
   "outputs": [
    {
     "data": {
      "text/plain": [
       "{<ScoreType.iterations: 'iterations'>: 1,\n",
       " <ScoreType.total_row_count: 'total_row_count'>: 780,\n",
       " <ScoreType.active_feature_count: 'active_feature_count'>: 3,\n",
       " <ScoreType.inactive_feature_count: 'inactive_feature_count'>: 0,\n",
       " <ScoreType.mean_absolute_error: 'mean_absolute_error'>: 2079.455,\n",
       " <ScoreType.median_absolute_error: 'median_absolute_error'>: 857.0212,\n",
       " <ScoreType.mean_squared_error: 'mean_squared_error'>: 72343950.0}"
      ]
     },
     "execution_count": 5,
     "metadata": {},
     "output_type": "execute_result"
    }
   ],
   "source": [
    "features = { \n",
    "        \"Year\" : Feature(id = \"Year\", feature_type=FeatureType.Continuous),\n",
    "        \"State\" : Feature(id = \"State\", feature_type=FeatureType.Categorical),\n",
    "        \"Total\" : Feature(id = \"Total\", feature_type=FeatureType.Continuous)\n",
    "    }\n",
    "\n",
    "df_train = df_total\n",
    "results = train(df_train, features)\n",
    "results.scores"
   ]
  },
  {
   "cell_type": "markdown",
   "metadata": {},
   "source": [
    "Scores are better for states with lower counts if we train a model per state"
   ]
  },
  {
   "cell_type": "code",
   "execution_count": 13,
   "metadata": {},
   "outputs": [
    {
     "data": {
      "text/plain": [
       "<AxesSubplot:xlabel='Year'>"
      ]
     },
     "execution_count": 13,
     "metadata": {},
     "output_type": "execute_result"
    },
    {
     "data": {
      "image/png": "[encoded data removed]",
      "text/plain": [
       "<Figure size 432x288 with 1 Axes>"
      ]
     },
     "metadata": {
      "needs_background": "light"
     },
     "output_type": "display_data"
    }
   ],
   "source": [
    "df_train_one_state = df_total.loc[df['State'] == 'Alabama']\n",
    "df_train_one_state.plot(x=\"Year\",y=\"Total\")"
   ]
  },
  {
   "cell_type": "code",
   "execution_count": 7,
   "metadata": {},
   "outputs": [
    {
     "name": "stderr",
     "output_type": "stream",
     "text": [
      "\n",
      "A value is trying to be set on a copy of a slice from a DataFrame\n",
      "\n",
      "See the caveats in the documentation: https://pandas.pydata.org/pandas-docs/stable/user_guide/indexing.html#returning-a-view-versus-a-copy\n",
      "\n",
      "A value is trying to be set on a copy of a slice from a DataFrame\n",
      "\n",
      "See the caveats in the documentation: https://pandas.pydata.org/pandas-docs/stable/user_guide/indexing.html#returning-a-view-versus-a-copy\n"
     ]
    },
    {
     "data": {
      "text/plain": [
       "{<ScoreType.iterations: 'iterations'>: 1,\n",
       " <ScoreType.total_row_count: 'total_row_count'>: 15,\n",
       " <ScoreType.active_feature_count: 'active_feature_count'>: 2,\n",
       " <ScoreType.inactive_feature_count: 'inactive_feature_count'>: 1,\n",
       " <ScoreType.mean_absolute_error: 'mean_absolute_error'>: 4980.1836,\n",
       " <ScoreType.median_absolute_error: 'median_absolute_error'>: 5431.461,\n",
       " <ScoreType.mean_squared_error: 'mean_squared_error'>: 25509856.0}"
      ]
     },
     "execution_count": 7,
     "metadata": {},
     "output_type": "execute_result"
    }
   ],
   "source": [
    "results_one_state = train(df_train_one_state, features)\n",
    "results_one_state.scores"
   ]
  },
  {
   "cell_type": "markdown",
   "metadata": {},
   "source": [
    "## Add windows features"
   ]
  },
  {
   "cell_type": "code",
   "execution_count": 8,
   "metadata": {},
   "outputs": [
    {
     "name": "stderr",
     "output_type": "stream",
     "text": [
      "\n",
      "A value is trying to be set on a copy of a slice from a DataFrame.\n",
      "Try using .loc[row_indexer,col_indexer] = value instead\n",
      "\n",
      "See the caveats in the documentation: https://pandas.pydata.org/pandas-docs/stable/user_guide/indexing.html#returning-a-view-versus-a-copy\n"
     ]
    }
   ],
   "source": [
    "df_train_window = df_total.loc[df['State'] == 'California']\n",
    "# df_train = df_train.loc[df_train[\"Total\"] > 20]\n",
    "df_train_window[\"TotalLastYear\"] = df_train_window[\"Total\"].shift(-1)\n",
    "df_train_window[\"TotalNextYear\"] = df_train_window[\"Total\"].shift(1)\n",
    "df_train_window = df_train_window.dropna()\n",
    "# df_train.plot(x=\"Year\",y=\"Total\")\n",
    "# df_train_window"
   ]
  },
  {
   "cell_type": "code",
   "execution_count": 9,
   "metadata": {},
   "outputs": [
    {
     "data": {
      "text/plain": [
       "{<ScoreType.iterations: 'iterations'>: 1,\n",
       " <ScoreType.total_row_count: 'total_row_count'>: 13,\n",
       " <ScoreType.active_feature_count: 'active_feature_count'>: 4,\n",
       " <ScoreType.inactive_feature_count: 'inactive_feature_count'>: 1,\n",
       " <ScoreType.mean_absolute_error: 'mean_absolute_error'>: 276.78568,\n",
       " <ScoreType.median_absolute_error: 'median_absolute_error'>: 283.25,\n",
       " <ScoreType.mean_squared_error: 'mean_squared_error'>: 93829.836}"
      ]
     },
     "execution_count": 9,
     "metadata": {},
     "output_type": "execute_result"
    }
   ],
   "source": [
    "features_with_window = { \n",
    "        \"Year\" : Feature(id = \"Year\", feature_type=FeatureType.Continuous),\n",
    "        \"State\" : Feature(id = \"State\", feature_type=FeatureType.Categorical),\n",
    "        \"Total\" : Feature(id = \"Total\", feature_type=FeatureType.Continuous),\n",
    "        \"TotalLastYear\" : Feature(id = \"TotalLastYear\", feature_type=FeatureType.Continuous, active=True),\n",
    "        \"TotalNextYear\" : Feature(id = \"TotalNextYear\", feature_type=FeatureType.Continuous, active=True)\n",
    "    }\n",
    "results_window = train(df_train_window, features_with_window)\n",
    "results_window.scores"
   ]
  },
  {
   "cell_type": "markdown",
   "metadata": {},
   "source": [
    "This works better but it introduces complexities when we think about how it would be implemented because it means that when making predicitions we need to know/guess TotalLastYear and TotalNextYear"
   ]
  },
  {
   "cell_type": "markdown",
   "metadata": {},
   "source": [
    "## Make a prediction"
   ]
  },
  {
   "cell_type": "code",
   "execution_count": 10,
   "metadata": {},
   "outputs": [
    {
     "data": {
      "text/plain": [
       "[61257.23828125]"
      ]
     },
     "execution_count": 10,
     "metadata": {},
     "output_type": "execute_result"
    }
   ],
   "source": [
    "def infer(df, features, training_results: TrainingResults):\n",
    "    config = MLConfig(\n",
    "                algorithm_type=AlgorithmType.SklearnLinearModel,\n",
    "                features=features,\n",
    "                model_feature_id=\"Total\",\n",
    "                input_data=InputData(data_type=DataType.DataFrame, data_frame=df),\n",
    "            )\n",
    "    config.input_data = InputData(data_type=DataType.DataFrame, data_frame=df)\n",
    "    config.model_bytes = training_results.model_bytes\n",
    "    config.encoder_bytes = training_results.encoder_bytes\n",
    "    config.background_data_bytes = training_results.background_data_bytes\n",
    "    return runners.infer(config)\n",
    "\n",
    "df_predict = pd.DataFrame({\"Year\" : 2030}, index=[0])\n",
    "inference_output = infer(df_predict, features, results_one_state)\n",
    "inference_output.inference_results[0].values"
   ]
  },
  {
   "cell_type": "code",
   "execution_count": null,
   "metadata": {},
   "outputs": [],
   "source": []
  }
 ],
 "metadata": {
  "kernelspec": {
   "display_name": "Python 3.9.13 ('.venv': poetry)",
   "language": "python",
   "name": "python3"
  },
  "language_info": {
   "codemirror_mode": {
    "name": "ipython",
    "version": 3
   },
   "file_extension": ".py",
   "mimetype": "text/x-python",
   "name": "python",
   "nbconvert_exporter": "python",
   "pygments_lexer": "ipython3",
   "version": "3.9.13"
  },
  "orig_nbformat": 4,
  "vscode": {
   "interpreter": {
    "hash": "6b2e7b7bfdd38aa308878d16834accf315a484c5bbd77d63c256c8b220ecb51d"
   }
  }
 },
 "nbformat": 4,
 "nbformat_minor": 2
}
