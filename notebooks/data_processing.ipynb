{
 "cells": [
  {
   "cell_type": "markdown",
   "metadata": {},
   "source": [
    "# Data processing - from excel to csv\n",
    "\n",
    "The goal of this notebook is to process the excel spreadsheet and produce a csv of training data. The process is:\n",
    "- read in data and concatenate to a single dataframe\n",
    "- clean missing values\n",
    "- filter to data for state == 'Total'\n",
    "- save as a csv in the data folder"
   ]
  },
  {
   "cell_type": "code",
   "execution_count": 5,
   "metadata": {},
   "outputs": [],
   "source": [
    "import pandas as pd\n",
    "\n",
    "def clean_data(df: pd.DataFrame) -> pd.DataFrame:\n",
    "    df_cleaned = df.dropna(how=\"all\")\n",
    "    df_cleaned = df_cleaned.rename(columns={\"Totald\" : \"Total\"})\n",
    "    df_cleaned = df_cleaned[[\"State\", \"Total\"]]\n",
    "    df_cleaned = df_cleaned.dropna()\n",
    "    return df_cleaned\n",
    "\n",
    "df_total = pd.DataFrame()\n",
    "for n in range(2007, 2022, 1):\n",
    "    df = pd.read_excel(\"../data/Historical Station Counts by State 2007-2021.xlsx\", sheet_name=str(n), skiprows=1)\n",
    "    df_cleaned = clean_data(df)\n",
    "    df_cleaned[\"Year\"] = n\n",
    "    df_total = pd.concat([df_total, df_cleaned])\n",
    "\n",
    "df_total = df_total.loc[df['State'] == 'Total']\n",
    "df_total = df_total.drop(columns=['State'])\n",
    "df_total.to_csv(\"../data/cleaned.csv\", index=False)"
   ]
  },
  {
   "cell_type": "code",
   "execution_count": null,
   "metadata": {},
   "outputs": [],
   "source": []
  }
 ],
 "metadata": {
  "kernelspec": {
   "display_name": "Python 3.9.13 ('.venv': poetry)",
   "language": "python",
   "name": "python3"
  },
  "language_info": {
   "codemirror_mode": {
    "name": "ipython",
    "version": 3
   },
   "file_extension": ".py",
   "mimetype": "text/x-python",
   "name": "python",
   "nbconvert_exporter": "python",
   "pygments_lexer": "ipython3",
   "version": "3.9.13"
  },
  "orig_nbformat": 4,
  "vscode": {
   "interpreter": {
    "hash": "6b2e7b7bfdd38aa308878d16834accf315a484c5bbd77d63c256c8b220ecb51d"
   }
  }
 },
 "nbformat": 4,
 "nbformat_minor": 2
}
